{
  "nbformat": 4,
  "nbformat_minor": 0,
  "metadata": {
    "colab": {
      "name": "Toxic Comment Classification.ipynb",
      "provenance": [],
      "collapsed_sections": [],
      "toc_visible": true,
      "mount_file_id": "1SymzBK4aGMNUFV2v6ayV5j3JmWH1u3MX",
      "authorship_tag": "ABX9TyOZ78aIHoXa29xrwmgnCU4Q",
      "include_colab_link": true
    },
    "kernelspec": {
      "name": "python3",
      "display_name": "Python 3"
    },
    "accelerator": "GPU"
  },
  "cells": [
    {
      "cell_type": "markdown",
      "metadata": {
        "id": "view-in-github",
        "colab_type": "text"
      },
      "source": [
        "<a href=\"https://colab.research.google.com/github/utsav-195/multilabel-classification-of-toxic-comments-using-deep-learning/blob/main/Toxic_Comment_Classification.ipynb\" target=\"_parent\"><img src=\"https://colab.research.google.com/assets/colab-badge.svg\" alt=\"Open In Colab\"/></a>"
      ]
    },
    {
      "cell_type": "code",
      "metadata": {
        "colab": {
          "base_uri": "https://localhost:8080/"
        },
        "id": "9nVRXzolj_Ad",
        "outputId": "456f8354-1ee7-4a46-f22d-4dc1e4085c64"
      },
      "source": [
        "!unzip \"/content/drive/MyDrive/uic/Toxic Comments/jigsaw-toxic-comment-classification-challenge.zip\" -d \"/content/drive/MyDrive/uic/Toxic Comments/Data/\""
      ],
      "execution_count": null,
      "outputs": [
        {
          "output_type": "stream",
          "text": [
            "Archive:  /content/drive/MyDrive/uic/Toxic Comments/jigsaw-toxic-comment-classification-challenge.zip\n",
            "  inflating: /content/drive/MyDrive/uic/Toxic Comments/Data/sample_submission.csv.zip  \n",
            "  inflating: /content/drive/MyDrive/uic/Toxic Comments/Data/test.csv.zip  \n",
            "  inflating: /content/drive/MyDrive/uic/Toxic Comments/Data/test_labels.csv.zip  \n",
            "  inflating: /content/drive/MyDrive/uic/Toxic Comments/Data/train.csv.zip  \n"
          ],
          "name": "stdout"
        }
      ]
    },
    {
      "cell_type": "code",
      "metadata": {
        "id": "1qk6omVvlY5O"
      },
      "source": [
        "!mkdir \"/content/drive/MyDrive/uic/Toxic Comments/Data/test/\""
      ],
      "execution_count": null,
      "outputs": []
    },
    {
      "cell_type": "code",
      "metadata": {
        "colab": {
          "base_uri": "https://localhost:8080/"
        },
        "id": "ctg1Xl3mljlf",
        "outputId": "b5d12b6e-c127-4c90-c0e4-c65132a61689"
      },
      "source": [
        "!unzip \"/content/drive/MyDrive/uic/Toxic Comments/Data/test_labels.csv.zip\" -d \"/content/drive/MyDrive/uic/Toxic Comments/Data/test/\""
      ],
      "execution_count": null,
      "outputs": [
        {
          "output_type": "stream",
          "text": [
            "Archive:  /content/drive/MyDrive/uic/Toxic Comments/Data/test_labels.csv.zip\n",
            "  inflating: /content/drive/MyDrive/uic/Toxic Comments/Data/test/test_labels.csv  \n"
          ],
          "name": "stdout"
        }
      ]
    },
    {
      "cell_type": "code",
      "metadata": {
        "id": "zrVWS9UwkrNk"
      },
      "source": [
        "import pandas as pd\r\n",
        "import matplotlib.pyplot as plt\r\n",
        "import seaborn as sns\r\n",
        "import numpy as np\r\n",
        "import re\r\n",
        "from sklearn.model_selection import train_test_split"
      ],
      "execution_count": 1,
      "outputs": []
    },
    {
      "cell_type": "code",
      "metadata": {
        "id": "I-MMus01ksC1"
      },
      "source": [
        "data = pd.read_csv(\"/content/drive/MyDrive/uic/Toxic Comments/Data/train/train.csv\")"
      ],
      "execution_count": null,
      "outputs": []
    },
    {
      "cell_type": "code",
      "metadata": {
        "colab": {
          "base_uri": "https://localhost:8080/",
          "height": 195
        },
        "id": "wv5RU1XukyFM",
        "outputId": "96db5298-20d8-4b86-9c64-522dcc371130"
      },
      "source": [
        "data.head()"
      ],
      "execution_count": null,
      "outputs": [
        {
          "output_type": "execute_result",
          "data": {
            "text/html": [
              "<div>\n",
              "<style scoped>\n",
              "    .dataframe tbody tr th:only-of-type {\n",
              "        vertical-align: middle;\n",
              "    }\n",
              "\n",
              "    .dataframe tbody tr th {\n",
              "        vertical-align: top;\n",
              "    }\n",
              "\n",
              "    .dataframe thead th {\n",
              "        text-align: right;\n",
              "    }\n",
              "</style>\n",
              "<table border=\"1\" class=\"dataframe\">\n",
              "  <thead>\n",
              "    <tr style=\"text-align: right;\">\n",
              "      <th></th>\n",
              "      <th>id</th>\n",
              "      <th>comment_text</th>\n",
              "      <th>toxic</th>\n",
              "      <th>severe_toxic</th>\n",
              "      <th>obscene</th>\n",
              "      <th>threat</th>\n",
              "      <th>insult</th>\n",
              "      <th>identity_hate</th>\n",
              "    </tr>\n",
              "  </thead>\n",
              "  <tbody>\n",
              "    <tr>\n",
              "      <th>0</th>\n",
              "      <td>0000997932d777bf</td>\n",
              "      <td>Explanation\\nWhy the edits made under my usern...</td>\n",
              "      <td>0</td>\n",
              "      <td>0</td>\n",
              "      <td>0</td>\n",
              "      <td>0</td>\n",
              "      <td>0</td>\n",
              "      <td>0</td>\n",
              "    </tr>\n",
              "    <tr>\n",
              "      <th>1</th>\n",
              "      <td>000103f0d9cfb60f</td>\n",
              "      <td>D'aww! He matches this background colour I'm s...</td>\n",
              "      <td>0</td>\n",
              "      <td>0</td>\n",
              "      <td>0</td>\n",
              "      <td>0</td>\n",
              "      <td>0</td>\n",
              "      <td>0</td>\n",
              "    </tr>\n",
              "    <tr>\n",
              "      <th>2</th>\n",
              "      <td>000113f07ec002fd</td>\n",
              "      <td>Hey man, I'm really not trying to edit war. It...</td>\n",
              "      <td>0</td>\n",
              "      <td>0</td>\n",
              "      <td>0</td>\n",
              "      <td>0</td>\n",
              "      <td>0</td>\n",
              "      <td>0</td>\n",
              "    </tr>\n",
              "    <tr>\n",
              "      <th>3</th>\n",
              "      <td>0001b41b1c6bb37e</td>\n",
              "      <td>\"\\nMore\\nI can't make any real suggestions on ...</td>\n",
              "      <td>0</td>\n",
              "      <td>0</td>\n",
              "      <td>0</td>\n",
              "      <td>0</td>\n",
              "      <td>0</td>\n",
              "      <td>0</td>\n",
              "    </tr>\n",
              "    <tr>\n",
              "      <th>4</th>\n",
              "      <td>0001d958c54c6e35</td>\n",
              "      <td>You, sir, are my hero. Any chance you remember...</td>\n",
              "      <td>0</td>\n",
              "      <td>0</td>\n",
              "      <td>0</td>\n",
              "      <td>0</td>\n",
              "      <td>0</td>\n",
              "      <td>0</td>\n",
              "    </tr>\n",
              "  </tbody>\n",
              "</table>\n",
              "</div>"
            ],
            "text/plain": [
              "                 id  ... identity_hate\n",
              "0  0000997932d777bf  ...             0\n",
              "1  000103f0d9cfb60f  ...             0\n",
              "2  000113f07ec002fd  ...             0\n",
              "3  0001b41b1c6bb37e  ...             0\n",
              "4  0001d958c54c6e35  ...             0\n",
              "\n",
              "[5 rows x 8 columns]"
            ]
          },
          "metadata": {
            "tags": []
          },
          "execution_count": 45
        }
      ]
    },
    {
      "cell_type": "code",
      "metadata": {
        "colab": {
          "base_uri": "https://localhost:8080/"
        },
        "id": "cDCqXKzDky-e",
        "outputId": "fbc53fba-d173-4226-ced0-783a8b87b571"
      },
      "source": [
        "data.shape"
      ],
      "execution_count": null,
      "outputs": [
        {
          "output_type": "execute_result",
          "data": {
            "text/plain": [
              "(159571, 8)"
            ]
          },
          "metadata": {
            "tags": []
          },
          "execution_count": 46
        }
      ]
    },
    {
      "cell_type": "markdown",
      "metadata": {
        "id": "S5LwyYZ71_i7"
      },
      "source": [
        "## Data Pre-Processing and Exploration"
      ]
    },
    {
      "cell_type": "code",
      "metadata": {
        "id": "kTdqWR3ll1_7"
      },
      "source": [
        "data = data.drop(\"id\",axis=1)"
      ],
      "execution_count": null,
      "outputs": []
    },
    {
      "cell_type": "code",
      "metadata": {
        "id": "sgMhNvbRmVO6"
      },
      "source": [
        "data[\"character_length\"]=data.comment_text.apply(lambda x:len(x))"
      ],
      "execution_count": null,
      "outputs": []
    },
    {
      "cell_type": "code",
      "metadata": {
        "colab": {
          "base_uri": "https://localhost:8080/",
          "height": 195
        },
        "id": "lRu4YmWMm02i",
        "outputId": "55b7d706-dbcf-468b-d22e-3f0285c96e48"
      },
      "source": [
        "data.head()"
      ],
      "execution_count": null,
      "outputs": [
        {
          "output_type": "execute_result",
          "data": {
            "text/html": [
              "<div>\n",
              "<style scoped>\n",
              "    .dataframe tbody tr th:only-of-type {\n",
              "        vertical-align: middle;\n",
              "    }\n",
              "\n",
              "    .dataframe tbody tr th {\n",
              "        vertical-align: top;\n",
              "    }\n",
              "\n",
              "    .dataframe thead th {\n",
              "        text-align: right;\n",
              "    }\n",
              "</style>\n",
              "<table border=\"1\" class=\"dataframe\">\n",
              "  <thead>\n",
              "    <tr style=\"text-align: right;\">\n",
              "      <th></th>\n",
              "      <th>comment_text</th>\n",
              "      <th>toxic</th>\n",
              "      <th>severe_toxic</th>\n",
              "      <th>obscene</th>\n",
              "      <th>threat</th>\n",
              "      <th>insult</th>\n",
              "      <th>identity_hate</th>\n",
              "      <th>character_length</th>\n",
              "    </tr>\n",
              "  </thead>\n",
              "  <tbody>\n",
              "    <tr>\n",
              "      <th>0</th>\n",
              "      <td>Explanation\\nWhy the edits made under my usern...</td>\n",
              "      <td>0</td>\n",
              "      <td>0</td>\n",
              "      <td>0</td>\n",
              "      <td>0</td>\n",
              "      <td>0</td>\n",
              "      <td>0</td>\n",
              "      <td>264</td>\n",
              "    </tr>\n",
              "    <tr>\n",
              "      <th>1</th>\n",
              "      <td>D'aww! He matches this background colour I'm s...</td>\n",
              "      <td>0</td>\n",
              "      <td>0</td>\n",
              "      <td>0</td>\n",
              "      <td>0</td>\n",
              "      <td>0</td>\n",
              "      <td>0</td>\n",
              "      <td>112</td>\n",
              "    </tr>\n",
              "    <tr>\n",
              "      <th>2</th>\n",
              "      <td>Hey man, I'm really not trying to edit war. It...</td>\n",
              "      <td>0</td>\n",
              "      <td>0</td>\n",
              "      <td>0</td>\n",
              "      <td>0</td>\n",
              "      <td>0</td>\n",
              "      <td>0</td>\n",
              "      <td>233</td>\n",
              "    </tr>\n",
              "    <tr>\n",
              "      <th>3</th>\n",
              "      <td>\"\\nMore\\nI can't make any real suggestions on ...</td>\n",
              "      <td>0</td>\n",
              "      <td>0</td>\n",
              "      <td>0</td>\n",
              "      <td>0</td>\n",
              "      <td>0</td>\n",
              "      <td>0</td>\n",
              "      <td>622</td>\n",
              "    </tr>\n",
              "    <tr>\n",
              "      <th>4</th>\n",
              "      <td>You, sir, are my hero. Any chance you remember...</td>\n",
              "      <td>0</td>\n",
              "      <td>0</td>\n",
              "      <td>0</td>\n",
              "      <td>0</td>\n",
              "      <td>0</td>\n",
              "      <td>0</td>\n",
              "      <td>67</td>\n",
              "    </tr>\n",
              "  </tbody>\n",
              "</table>\n",
              "</div>"
            ],
            "text/plain": [
              "                                        comment_text  ...  character_length\n",
              "0  Explanation\\nWhy the edits made under my usern...  ...               264\n",
              "1  D'aww! He matches this background colour I'm s...  ...               112\n",
              "2  Hey man, I'm really not trying to edit war. It...  ...               233\n",
              "3  \"\\nMore\\nI can't make any real suggestions on ...  ...               622\n",
              "4  You, sir, are my hero. Any chance you remember...  ...                67\n",
              "\n",
              "[5 rows x 8 columns]"
            ]
          },
          "metadata": {
            "tags": []
          },
          "execution_count": 49
        }
      ]
    },
    {
      "cell_type": "code",
      "metadata": {
        "id": "N0DcIXI3nACM"
      },
      "source": [
        "counts = {}\r\n",
        "for c in data.character_length:\r\n",
        "  if c in counts:\r\n",
        "    counts[c] += 1\r\n",
        "  else:\r\n",
        "    counts[c] = 1"
      ],
      "execution_count": null,
      "outputs": []
    },
    {
      "cell_type": "code",
      "metadata": {
        "colab": {
          "base_uri": "https://localhost:8080/"
        },
        "id": "JtNuVrTXnaAI",
        "outputId": "e65fc10c-b1a2-4e8a-c489-c48a02a33112"
      },
      "source": [
        "print(max(data.character_length))\r\n",
        "print(min(data.character_length))"
      ],
      "execution_count": null,
      "outputs": [
        {
          "output_type": "stream",
          "text": [
            "5000\n",
            "6\n"
          ],
          "name": "stdout"
        }
      ]
    },
    {
      "cell_type": "code",
      "metadata": {
        "colab": {
          "base_uri": "https://localhost:8080/",
          "height": 350
        },
        "id": "-peKJPGTnrBo",
        "outputId": "a6a15425-b0da-4d06-f706-901573a10b17"
      },
      "source": [
        "sns.boxplot(data.character_length)"
      ],
      "execution_count": null,
      "outputs": [
        {
          "output_type": "stream",
          "text": [
            "/usr/local/lib/python3.6/dist-packages/seaborn/_decorators.py:43: FutureWarning: Pass the following variable as a keyword arg: x. From version 0.12, the only valid positional argument will be `data`, and passing other arguments without an explicit keyword will result in an error or misinterpretation.\n",
            "  FutureWarning\n"
          ],
          "name": "stderr"
        },
        {
          "output_type": "execute_result",
          "data": {
            "text/plain": [
              "<matplotlib.axes._subplots.AxesSubplot at 0x7f26cc091978>"
            ]
          },
          "metadata": {
            "tags": []
          },
          "execution_count": 52
        },
        {
          "output_type": "display_data",
          "data": {
            "image/png": "[encoded data removed]",
            "text/plain": [
              "<Figure size 432x288 with 1 Axes>"
            ]
          },
          "metadata": {
            "tags": [],
            "needs_background": "light"
          }
        }
      ]
    },
    {
      "cell_type": "code",
      "metadata": {
        "colab": {
          "base_uri": "https://localhost:8080/"
        },
        "id": "x-xuU62rn4Mi",
        "outputId": "6dd3cec3-d0d3-4476-d4aa-cbbe1f75806c"
      },
      "source": [
        "np.median(data.character_length)"
      ],
      "execution_count": null,
      "outputs": [
        {
          "output_type": "execute_result",
          "data": {
            "text/plain": [
              "205.0"
            ]
          },
          "metadata": {
            "tags": []
          },
          "execution_count": 53
        }
      ]
    },
    {
      "cell_type": "code",
      "metadata": {
        "colab": {
          "base_uri": "https://localhost:8080/",
          "height": 282
        },
        "id": "iBf7iAkNouZs",
        "outputId": "84080a4b-b756-401c-fa97-97272933f6ca"
      },
      "source": [
        "plt.scatter(range(0,len(counts)),counts.values())"
      ],
      "execution_count": null,
      "outputs": [
        {
          "output_type": "execute_result",
          "data": {
            "text/plain": [
              "<matplotlib.collections.PathCollection at 0x7f26850c2470>"
            ]
          },
          "metadata": {
            "tags": []
          },
          "execution_count": 54
        },
        {
          "output_type": "display_data",
          "data": {
            "image/png": "[encoded data removed]",
            "text/plain": [
              "<Figure size 432x288 with 1 Axes>"
            ]
          },
          "metadata": {
            "tags": [],
            "needs_background": "light"
          }
        }
      ]
    },
    {
      "cell_type": "code",
      "metadata": {
        "id": "ctOE-0Xb2uwN"
      },
      "source": [
        "contraction_mapping = {\"ain't\": \"is not\", \"aren't\": \"are not\",\"can't\": \"cannot\", \"'cause\": \"because\", \"could've\": \"could have\", \"couldn't\": \"could not\",\r\n",
        "\r\n",
        "                           \"didn't\": \"did not\", \"doesn't\": \"does not\", \"don't\": \"do not\", \"hadn't\": \"had not\", \"hasn't\": \"has not\", \"haven't\": \"have not\",\r\n",
        "\r\n",
        "                           \"he'd\": \"he would\",\"he'll\": \"he will\", \"he's\": \"he is\", \"how'd\": \"how did\", \"how'd'y\": \"how do you\", \"how'll\": \"how will\", \"how's\": \"how is\",\r\n",
        "\r\n",
        "                           \"I'd\": \"I would\", \"I'd've\": \"I would have\", \"I'll\": \"I will\", \"I'll've\": \"I will have\",\"I'm\": \"I am\", \"I've\": \"I have\", \"i'd\": \"i would\",\r\n",
        "\r\n",
        "                           \"i'd've\": \"i would have\", \"i'll\": \"i will\",  \"i'll've\": \"i will have\",\"i'm\": \"i am\", \"i've\": \"i have\", \"isn't\": \"is not\", \"it'd\": \"it would\",\r\n",
        "\r\n",
        "                           \"it'd've\": \"it would have\", \"it'll\": \"it will\", \"it'll've\": \"it will have\",\"it's\": \"it is\", \"let's\": \"let us\", \"ma'am\": \"madam\",\r\n",
        "\r\n",
        "                           \"mayn't\": \"may not\", \"might've\": \"might have\",\"mightn't\": \"might not\",\"mightn't've\": \"might not have\", \"must've\": \"must have\",\r\n",
        "\r\n",
        "                           \"mustn't\": \"must not\", \"mustn't've\": \"must not have\", \"needn't\": \"need not\", \"needn't've\": \"need not have\",\"o'clock\": \"of the clock\",\r\n",
        "\r\n",
        "                           \"oughtn't\": \"ought not\", \"oughtn't've\": \"ought not have\", \"shan't\": \"shall not\", \"sha'n't\": \"shall not\", \"shan't've\": \"shall not have\",\r\n",
        "\r\n",
        "                           \"she'd\": \"she would\", \"she'd've\": \"she would have\", \"she'll\": \"she will\", \"she'll've\": \"she will have\", \"she's\": \"she is\",\r\n",
        "\r\n",
        "                           \"should've\": \"should have\", \"shouldn't\": \"should not\", \"shouldn't've\": \"should not have\", \"so've\": \"so have\",\"so's\": \"so as\",\r\n",
        "\r\n",
        "                           \"this's\": \"this is\",\"that'd\": \"that would\", \"that'd've\": \"that would have\", \"that's\": \"that is\", \"there'd\": \"there would\",\r\n",
        "\r\n",
        "                           \"there'd've\": \"there would have\", \"there's\": \"there is\", \"here's\": \"here is\",\"they'd\": \"they would\", \"they'd've\": \"they would have\",\r\n",
        "\r\n",
        "                           \"they'll\": \"they will\", \"they'll've\": \"they will have\", \"they're\": \"they are\", \"they've\": \"they have\", \"to've\": \"to have\",\r\n",
        "\r\n",
        "                           \"wasn't\": \"was not\", \"we'd\": \"we would\", \"we'd've\": \"we would have\", \"we'll\": \"we will\", \"we'll've\": \"we will have\", \"we're\": \"we are\",\r\n",
        "\r\n",
        "                           \"we've\": \"we have\", \"weren't\": \"were not\", \"what'll\": \"what will\", \"what'll've\": \"what will have\", \"what're\": \"what are\",\r\n",
        "\r\n",
        "                           \"what's\": \"what is\", \"what've\": \"what have\", \"when's\": \"when is\", \"when've\": \"when have\", \"where'd\": \"where did\", \"where's\": \"where is\",\r\n",
        "\r\n",
        "                           \"where've\": \"where have\", \"who'll\": \"who will\", \"who'll've\": \"who will have\", \"who's\": \"who is\", \"who've\": \"who have\",\r\n",
        "\r\n",
        "                           \"why's\": \"why is\", \"why've\": \"why have\", \"will've\": \"will have\", \"won't\": \"will not\", \"won't've\": \"will not have\",\r\n",
        "\r\n",
        "                           \"would've\": \"would have\", \"wouldn't\": \"would not\", \"wouldn't've\": \"would not have\", \"y'all\": \"you all\",\r\n",
        "\r\n",
        "                           \"y'all'd\": \"you all would\",\"y'all'd've\": \"you all would have\",\"y'all're\": \"you all are\",\"y'all've\": \"you all have\",\r\n",
        "\r\n",
        "                           \"you'd\": \"you would\", \"you'd've\": \"you would have\", \"you'll\": \"you will\", \"you'll've\": \"you will have\",\r\n",
        "\r\n",
        "                           \"you're\": \"you are\", \"you've\": \"you have\",\"u\":\"you\",\"ur\":\"you are\",\"u.s\":\"US\",\"u.s.\":\"US\"}"
      ],
      "execution_count": 51,
      "outputs": []
    },
    {
      "cell_type": "code",
      "metadata": {
        "id": "NO_8RY13pRv8"
      },
      "source": [
        "def process(df):\r\n",
        "  tokens = []\r\n",
        "  for d in df:\r\n",
        "    d = d.lower().replace(\"\\\\n\",\" \")\r\n",
        "    d = d.replace(\"?\",\" ? \")\r\n",
        "    d = d.replace(\".\",\" . \")\r\n",
        "    d = d.replace(\"!\",\" ! \")\r\n",
        "    d = d.replace(\",\",\" , \")\r\n",
        "    d = d.replace(\"(\",\" ( \")\r\n",
        "    d = d.replace(\")\",\" ) \")\r\n",
        "    d = d.replace(\"]\",\" ] \")\r\n",
        "    d = d.replace(\"[\",\" [ \")\r\n",
        "    d = d.replace(\":\",\" : \")\r\n",
        "    d = d.replace(\"-\",\" - \")\r\n",
        "    new_d = []\r\n",
        "    for i in d.split():\r\n",
        "      if i in contraction_mapping:\r\n",
        "        mapping = contraction_mapping[i]\r\n",
        "        new_d.append(mapping)\r\n",
        "      else:\r\n",
        "        new_d.append(i)\r\n",
        "    new_d = [n for n in new_d if n != \"\"]\r\n",
        "    new_d = \" \".join(new_d)\r\n",
        "    tokens.append(new_d)\r\n",
        "  return tokens"
      ],
      "execution_count": 52,
      "outputs": []
    },
    {
      "cell_type": "code",
      "metadata": {
        "id": "ZNnYt8UktHP3"
      },
      "source": [
        "cleaned_data = process(data.comment_text)"
      ],
      "execution_count": null,
      "outputs": []
    },
    {
      "cell_type": "code",
      "metadata": {
        "id": "iriFvh7K9D8U"
      },
      "source": [
        "data[\"cleaned_comments\"] = cleaned_data"
      ],
      "execution_count": null,
      "outputs": []
    },
    {
      "cell_type": "code",
      "metadata": {
        "colab": {
          "base_uri": "https://localhost:8080/"
        },
        "id": "YJ9QKcU8BSZK",
        "outputId": "c4e802c9-29fd-49c5-bcb9-724ffa7f6203"
      },
      "source": [
        "data.cleaned_comments"
      ],
      "execution_count": null,
      "outputs": [
        {
          "output_type": "execute_result",
          "data": {
            "text/plain": [
              "0         explanation why the edits made under my userna...\n",
              "1         d'aww ! he matches this background colour i am...\n",
              "2         hey man , i am really not trying to edit war ....\n",
              "3         \" more i cannot make any real suggestions on i...\n",
              "4         you , sir , are my hero . any chance you remem...\n",
              "                                ...                        \n",
              "159566    \" : : : : : and for the second time of asking ...\n",
              "159567    you should be ashamed of yourself that is a ho...\n",
              "159568    spitzer umm , theres no actual article for pro...\n",
              "159569    and it looks like it was actually you who put ...\n",
              "159570    \" and . . . i really do not think you understa...\n",
              "Name: cleaned_comments, Length: 159571, dtype: object"
            ]
          },
          "metadata": {
            "tags": []
          },
          "execution_count": 60
        }
      ]
    },
    {
      "cell_type": "code",
      "metadata": {
        "id": "XTkEbAVABhUb"
      },
      "source": [
        "data[\"num_tokens\"] = data.cleaned_comments.apply(lambda x:len(x.split()))"
      ],
      "execution_count": null,
      "outputs": []
    },
    {
      "cell_type": "code",
      "metadata": {
        "colab": {
          "base_uri": "https://localhost:8080/",
          "height": 346
        },
        "id": "xq0GZp78Bjgl",
        "outputId": "aea6acef-e6e4-4ed3-e3b0-084659be8dd1"
      },
      "source": [
        "data.head()"
      ],
      "execution_count": null,
      "outputs": [
        {
          "output_type": "execute_result",
          "data": {
            "text/html": [
              "<div>\n",
              "<style scoped>\n",
              "    .dataframe tbody tr th:only-of-type {\n",
              "        vertical-align: middle;\n",
              "    }\n",
              "\n",
              "    .dataframe tbody tr th {\n",
              "        vertical-align: top;\n",
              "    }\n",
              "\n",
              "    .dataframe thead th {\n",
              "        text-align: right;\n",
              "    }\n",
              "</style>\n",
              "<table border=\"1\" class=\"dataframe\">\n",
              "  <thead>\n",
              "    <tr style=\"text-align: right;\">\n",
              "      <th></th>\n",
              "      <th>comment_text</th>\n",
              "      <th>toxic</th>\n",
              "      <th>severe_toxic</th>\n",
              "      <th>obscene</th>\n",
              "      <th>threat</th>\n",
              "      <th>insult</th>\n",
              "      <th>identity_hate</th>\n",
              "      <th>character_length</th>\n",
              "      <th>cleaned_comments</th>\n",
              "      <th>num_tokens</th>\n",
              "    </tr>\n",
              "  </thead>\n",
              "  <tbody>\n",
              "    <tr>\n",
              "      <th>0</th>\n",
              "      <td>Explanation\\nWhy the edits made under my usern...</td>\n",
              "      <td>0</td>\n",
              "      <td>0</td>\n",
              "      <td>0</td>\n",
              "      <td>0</td>\n",
              "      <td>0</td>\n",
              "      <td>0</td>\n",
              "      <td>264</td>\n",
              "      <td>explanation why the edits made under my userna...</td>\n",
              "      <td>57</td>\n",
              "    </tr>\n",
              "    <tr>\n",
              "      <th>1</th>\n",
              "      <td>D'aww! He matches this background colour I'm s...</td>\n",
              "      <td>0</td>\n",
              "      <td>0</td>\n",
              "      <td>0</td>\n",
              "      <td>0</td>\n",
              "      <td>0</td>\n",
              "      <td>0</td>\n",
              "      <td>112</td>\n",
              "      <td>d'aww ! he matches this background colour i am...</td>\n",
              "      <td>29</td>\n",
              "    </tr>\n",
              "    <tr>\n",
              "      <th>2</th>\n",
              "      <td>Hey man, I'm really not trying to edit war. It...</td>\n",
              "      <td>0</td>\n",
              "      <td>0</td>\n",
              "      <td>0</td>\n",
              "      <td>0</td>\n",
              "      <td>0</td>\n",
              "      <td>0</td>\n",
              "      <td>233</td>\n",
              "      <td>hey man , i am really not trying to edit war ....</td>\n",
              "      <td>48</td>\n",
              "    </tr>\n",
              "    <tr>\n",
              "      <th>3</th>\n",
              "      <td>\"\\nMore\\nI can't make any real suggestions on ...</td>\n",
              "      <td>0</td>\n",
              "      <td>0</td>\n",
              "      <td>0</td>\n",
              "      <td>0</td>\n",
              "      <td>0</td>\n",
              "      <td>0</td>\n",
              "      <td>622</td>\n",
              "      <td>\" more i cannot make any real suggestions on i...</td>\n",
              "      <td>124</td>\n",
              "    </tr>\n",
              "    <tr>\n",
              "      <th>4</th>\n",
              "      <td>You, sir, are my hero. Any chance you remember...</td>\n",
              "      <td>0</td>\n",
              "      <td>0</td>\n",
              "      <td>0</td>\n",
              "      <td>0</td>\n",
              "      <td>0</td>\n",
              "      <td>0</td>\n",
              "      <td>67</td>\n",
              "      <td>you , sir , are my hero . any chance you remem...</td>\n",
              "      <td>18</td>\n",
              "    </tr>\n",
              "  </tbody>\n",
              "</table>\n",
              "</div>"
            ],
            "text/plain": [
              "                                        comment_text  ...  num_tokens\n",
              "0  Explanation\\nWhy the edits made under my usern...  ...          57\n",
              "1  D'aww! He matches this background colour I'm s...  ...          29\n",
              "2  Hey man, I'm really not trying to edit war. It...  ...          48\n",
              "3  \"\\nMore\\nI can't make any real suggestions on ...  ...         124\n",
              "4  You, sir, are my hero. Any chance you remember...  ...          18\n",
              "\n",
              "[5 rows x 10 columns]"
            ]
          },
          "metadata": {
            "tags": []
          },
          "execution_count": 62
        }
      ]
    },
    {
      "cell_type": "code",
      "metadata": {
        "colab": {
          "base_uri": "https://localhost:8080/"
        },
        "id": "O3xgiPyuCMxm",
        "outputId": "ad2240de-8c63-4832-da3d-a8bcac06cf69"
      },
      "source": [
        "np.median(data.num_tokens)"
      ],
      "execution_count": null,
      "outputs": [
        {
          "output_type": "execute_result",
          "data": {
            "text/plain": [
              "43.0"
            ]
          },
          "metadata": {
            "tags": []
          },
          "execution_count": 63
        }
      ]
    },
    {
      "cell_type": "code",
      "metadata": {
        "id": "0nMz17mO2Ra7"
      },
      "source": [
        "labels = []\r\n",
        "\r\n",
        "for i in range(data.shape[0]):\r\n",
        "  labels.append([data.iloc[i,1],data.iloc[i,2],data.iloc[i,3],data.iloc[i,4],data.iloc[i,5],data.iloc[i,6]])\r\n",
        "data[\"labels\"] = labels"
      ],
      "execution_count": null,
      "outputs": []
    },
    {
      "cell_type": "code",
      "metadata": {
        "colab": {
          "base_uri": "https://localhost:8080/",
          "height": 363
        },
        "id": "kfQZ6Zsn3LpA",
        "outputId": "c7b97b59-e89e-416b-9fb6-ada44b0955a5"
      },
      "source": [
        "data.head()"
      ],
      "execution_count": null,
      "outputs": [
        {
          "output_type": "execute_result",
          "data": {
            "text/html": [
              "<div>\n",
              "<style scoped>\n",
              "    .dataframe tbody tr th:only-of-type {\n",
              "        vertical-align: middle;\n",
              "    }\n",
              "\n",
              "    .dataframe tbody tr th {\n",
              "        vertical-align: top;\n",
              "    }\n",
              "\n",
              "    .dataframe thead th {\n",
              "        text-align: right;\n",
              "    }\n",
              "</style>\n",
              "<table border=\"1\" class=\"dataframe\">\n",
              "  <thead>\n",
              "    <tr style=\"text-align: right;\">\n",
              "      <th></th>\n",
              "      <th>comment_text</th>\n",
              "      <th>toxic</th>\n",
              "      <th>severe_toxic</th>\n",
              "      <th>obscene</th>\n",
              "      <th>threat</th>\n",
              "      <th>insult</th>\n",
              "      <th>identity_hate</th>\n",
              "      <th>character_length</th>\n",
              "      <th>cleaned_comments</th>\n",
              "      <th>num_tokens</th>\n",
              "      <th>labels</th>\n",
              "    </tr>\n",
              "  </thead>\n",
              "  <tbody>\n",
              "    <tr>\n",
              "      <th>0</th>\n",
              "      <td>Explanation\\nWhy the edits made under my usern...</td>\n",
              "      <td>0</td>\n",
              "      <td>0</td>\n",
              "      <td>0</td>\n",
              "      <td>0</td>\n",
              "      <td>0</td>\n",
              "      <td>0</td>\n",
              "      <td>264</td>\n",
              "      <td>explanation why the edits made under my userna...</td>\n",
              "      <td>57</td>\n",
              "      <td>[0, 0, 0, 0, 0, 0]</td>\n",
              "    </tr>\n",
              "    <tr>\n",
              "      <th>1</th>\n",
              "      <td>D'aww! He matches this background colour I'm s...</td>\n",
              "      <td>0</td>\n",
              "      <td>0</td>\n",
              "      <td>0</td>\n",
              "      <td>0</td>\n",
              "      <td>0</td>\n",
              "      <td>0</td>\n",
              "      <td>112</td>\n",
              "      <td>d'aww ! he matches this background colour i am...</td>\n",
              "      <td>29</td>\n",
              "      <td>[0, 0, 0, 0, 0, 0]</td>\n",
              "    </tr>\n",
              "    <tr>\n",
              "      <th>2</th>\n",
              "      <td>Hey man, I'm really not trying to edit war. It...</td>\n",
              "      <td>0</td>\n",
              "      <td>0</td>\n",
              "      <td>0</td>\n",
              "      <td>0</td>\n",
              "      <td>0</td>\n",
              "      <td>0</td>\n",
              "      <td>233</td>\n",
              "      <td>hey man , i am really not trying to edit war ....</td>\n",
              "      <td>48</td>\n",
              "      <td>[0, 0, 0, 0, 0, 0]</td>\n",
              "    </tr>\n",
              "    <tr>\n",
              "      <th>3</th>\n",
              "      <td>\"\\nMore\\nI can't make any real suggestions on ...</td>\n",
              "      <td>0</td>\n",
              "      <td>0</td>\n",
              "      <td>0</td>\n",
              "      <td>0</td>\n",
              "      <td>0</td>\n",
              "      <td>0</td>\n",
              "      <td>622</td>\n",
              "      <td>\" more i cannot make any real suggestions on i...</td>\n",
              "      <td>124</td>\n",
              "      <td>[0, 0, 0, 0, 0, 0]</td>\n",
              "    </tr>\n",
              "    <tr>\n",
              "      <th>4</th>\n",
              "      <td>You, sir, are my hero. Any chance you remember...</td>\n",
              "      <td>0</td>\n",
              "      <td>0</td>\n",
              "      <td>0</td>\n",
              "      <td>0</td>\n",
              "      <td>0</td>\n",
              "      <td>0</td>\n",
              "      <td>67</td>\n",
              "      <td>you , sir , are my hero . any chance you remem...</td>\n",
              "      <td>18</td>\n",
              "      <td>[0, 0, 0, 0, 0, 0]</td>\n",
              "    </tr>\n",
              "  </tbody>\n",
              "</table>\n",
              "</div>"
            ],
            "text/plain": [
              "                                        comment_text  ...              labels\n",
              "0  Explanation\\nWhy the edits made under my usern...  ...  [0, 0, 0, 0, 0, 0]\n",
              "1  D'aww! He matches this background colour I'm s...  ...  [0, 0, 0, 0, 0, 0]\n",
              "2  Hey man, I'm really not trying to edit war. It...  ...  [0, 0, 0, 0, 0, 0]\n",
              "3  \"\\nMore\\nI can't make any real suggestions on ...  ...  [0, 0, 0, 0, 0, 0]\n",
              "4  You, sir, are my hero. Any chance you remember...  ...  [0, 0, 0, 0, 0, 0]\n",
              "\n",
              "[5 rows x 11 columns]"
            ]
          },
          "metadata": {
            "tags": []
          },
          "execution_count": 66
        }
      ]
    },
    {
      "cell_type": "code",
      "metadata": {
        "id": "NCQGpoTw47_p"
      },
      "source": [
        "binary_labels = []\r\n",
        "\r\n",
        "binary_sum = [(data.toxic[i]+data.severe_toxic[i]+data.obscene[i]+data.threat[i]+data.insult[i]+data.identity_hate[i]) for i in range(data.shape[0])]"
      ],
      "execution_count": null,
      "outputs": []
    },
    {
      "cell_type": "code",
      "metadata": {
        "id": "QuS1z8P769-Q"
      },
      "source": [
        "data[\"binary_sum\"] = binary_sum"
      ],
      "execution_count": null,
      "outputs": []
    },
    {
      "cell_type": "code",
      "metadata": {
        "id": "7dM5mi_R7GTB"
      },
      "source": [
        "data['binary_labels'] = data[\"binary_sum\"].apply(lambda x: 1 if x > 0 else x)"
      ],
      "execution_count": null,
      "outputs": []
    },
    {
      "cell_type": "code",
      "metadata": {
        "colab": {
          "base_uri": "https://localhost:8080/",
          "height": 716
        },
        "id": "e42R0MET754V",
        "outputId": "4b0f2457-4e28-4b15-da58-bd53c50c982f"
      },
      "source": [
        "data.head(10)"
      ],
      "execution_count": null,
      "outputs": [
        {
          "output_type": "execute_result",
          "data": {
            "text/html": [
              "<div>\n",
              "<style scoped>\n",
              "    .dataframe tbody tr th:only-of-type {\n",
              "        vertical-align: middle;\n",
              "    }\n",
              "\n",
              "    .dataframe tbody tr th {\n",
              "        vertical-align: top;\n",
              "    }\n",
              "\n",
              "    .dataframe thead th {\n",
              "        text-align: right;\n",
              "    }\n",
              "</style>\n",
              "<table border=\"1\" class=\"dataframe\">\n",
              "  <thead>\n",
              "    <tr style=\"text-align: right;\">\n",
              "      <th></th>\n",
              "      <th>comment_text</th>\n",
              "      <th>toxic</th>\n",
              "      <th>severe_toxic</th>\n",
              "      <th>obscene</th>\n",
              "      <th>threat</th>\n",
              "      <th>insult</th>\n",
              "      <th>identity_hate</th>\n",
              "      <th>character_length</th>\n",
              "      <th>cleaned_comments</th>\n",
              "      <th>num_tokens</th>\n",
              "      <th>labels</th>\n",
              "      <th>binary_sum</th>\n",
              "      <th>binary_labels</th>\n",
              "    </tr>\n",
              "  </thead>\n",
              "  <tbody>\n",
              "    <tr>\n",
              "      <th>0</th>\n",
              "      <td>Explanation\\nWhy the edits made under my usern...</td>\n",
              "      <td>0</td>\n",
              "      <td>0</td>\n",
              "      <td>0</td>\n",
              "      <td>0</td>\n",
              "      <td>0</td>\n",
              "      <td>0</td>\n",
              "      <td>264</td>\n",
              "      <td>explanation why the edits made under my userna...</td>\n",
              "      <td>57</td>\n",
              "      <td>[0, 0, 0, 0, 0, 0]</td>\n",
              "      <td>0</td>\n",
              "      <td>0</td>\n",
              "    </tr>\n",
              "    <tr>\n",
              "      <th>1</th>\n",
              "      <td>D'aww! He matches this background colour I'm s...</td>\n",
              "      <td>0</td>\n",
              "      <td>0</td>\n",
              "      <td>0</td>\n",
              "      <td>0</td>\n",
              "      <td>0</td>\n",
              "      <td>0</td>\n",
              "      <td>112</td>\n",
              "      <td>d'aww ! he matches this background colour i am...</td>\n",
              "      <td>29</td>\n",
              "      <td>[0, 0, 0, 0, 0, 0]</td>\n",
              "      <td>0</td>\n",
              "      <td>0</td>\n",
              "    </tr>\n",
              "    <tr>\n",
              "      <th>2</th>\n",
              "      <td>Hey man, I'm really not trying to edit war. It...</td>\n",
              "      <td>0</td>\n",
              "      <td>0</td>\n",
              "      <td>0</td>\n",
              "      <td>0</td>\n",
              "      <td>0</td>\n",
              "      <td>0</td>\n",
              "      <td>233</td>\n",
              "      <td>hey man , i am really not trying to edit war ....</td>\n",
              "      <td>48</td>\n",
              "      <td>[0, 0, 0, 0, 0, 0]</td>\n",
              "      <td>0</td>\n",
              "      <td>0</td>\n",
              "    </tr>\n",
              "    <tr>\n",
              "      <th>3</th>\n",
              "      <td>\"\\nMore\\nI can't make any real suggestions on ...</td>\n",
              "      <td>0</td>\n",
              "      <td>0</td>\n",
              "      <td>0</td>\n",
              "      <td>0</td>\n",
              "      <td>0</td>\n",
              "      <td>0</td>\n",
              "      <td>622</td>\n",
              "      <td>\" more i cannot make any real suggestions on i...</td>\n",
              "      <td>124</td>\n",
              "      <td>[0, 0, 0, 0, 0, 0]</td>\n",
              "      <td>0</td>\n",
              "      <td>0</td>\n",
              "    </tr>\n",
              "    <tr>\n",
              "      <th>4</th>\n",
              "      <td>You, sir, are my hero. Any chance you remember...</td>\n",
              "      <td>0</td>\n",
              "      <td>0</td>\n",
              "      <td>0</td>\n",
              "      <td>0</td>\n",
              "      <td>0</td>\n",
              "      <td>0</td>\n",
              "      <td>67</td>\n",
              "      <td>you , sir , are my hero . any chance you remem...</td>\n",
              "      <td>18</td>\n",
              "      <td>[0, 0, 0, 0, 0, 0]</td>\n",
              "      <td>0</td>\n",
              "      <td>0</td>\n",
              "    </tr>\n",
              "    <tr>\n",
              "      <th>5</th>\n",
              "      <td>\"\\n\\nCongratulations from me as well, use the ...</td>\n",
              "      <td>0</td>\n",
              "      <td>0</td>\n",
              "      <td>0</td>\n",
              "      <td>0</td>\n",
              "      <td>0</td>\n",
              "      <td>0</td>\n",
              "      <td>65</td>\n",
              "      <td>\" congratulations from me as well , use the to...</td>\n",
              "      <td>15</td>\n",
              "      <td>[0, 0, 0, 0, 0, 0]</td>\n",
              "      <td>0</td>\n",
              "      <td>0</td>\n",
              "    </tr>\n",
              "    <tr>\n",
              "      <th>6</th>\n",
              "      <td>COCKSUCKER BEFORE YOU PISS AROUND ON MY WORK</td>\n",
              "      <td>1</td>\n",
              "      <td>1</td>\n",
              "      <td>1</td>\n",
              "      <td>0</td>\n",
              "      <td>1</td>\n",
              "      <td>0</td>\n",
              "      <td>44</td>\n",
              "      <td>cocksucker before you piss around on my work</td>\n",
              "      <td>8</td>\n",
              "      <td>[1, 1, 1, 0, 1, 0]</td>\n",
              "      <td>4</td>\n",
              "      <td>1</td>\n",
              "    </tr>\n",
              "    <tr>\n",
              "      <th>7</th>\n",
              "      <td>Your vandalism to the Matt Shirvington article...</td>\n",
              "      <td>0</td>\n",
              "      <td>0</td>\n",
              "      <td>0</td>\n",
              "      <td>0</td>\n",
              "      <td>0</td>\n",
              "      <td>0</td>\n",
              "      <td>115</td>\n",
              "      <td>your vandalism to the matt shirvington article...</td>\n",
              "      <td>24</td>\n",
              "      <td>[0, 0, 0, 0, 0, 0]</td>\n",
              "      <td>0</td>\n",
              "      <td>0</td>\n",
              "    </tr>\n",
              "    <tr>\n",
              "      <th>8</th>\n",
              "      <td>Sorry if the word 'nonsense' was offensive to ...</td>\n",
              "      <td>0</td>\n",
              "      <td>0</td>\n",
              "      <td>0</td>\n",
              "      <td>0</td>\n",
              "      <td>0</td>\n",
              "      <td>0</td>\n",
              "      <td>472</td>\n",
              "      <td>sorry if the word 'nonsense' was offensive to ...</td>\n",
              "      <td>102</td>\n",
              "      <td>[0, 0, 0, 0, 0, 0]</td>\n",
              "      <td>0</td>\n",
              "      <td>0</td>\n",
              "    </tr>\n",
              "    <tr>\n",
              "      <th>9</th>\n",
              "      <td>alignment on this subject and which are contra...</td>\n",
              "      <td>0</td>\n",
              "      <td>0</td>\n",
              "      <td>0</td>\n",
              "      <td>0</td>\n",
              "      <td>0</td>\n",
              "      <td>0</td>\n",
              "      <td>70</td>\n",
              "      <td>alignment on this subject and which are contra...</td>\n",
              "      <td>12</td>\n",
              "      <td>[0, 0, 0, 0, 0, 0]</td>\n",
              "      <td>0</td>\n",
              "      <td>0</td>\n",
              "    </tr>\n",
              "  </tbody>\n",
              "</table>\n",
              "</div>"
            ],
            "text/plain": [
              "                                        comment_text  ...  binary_labels\n",
              "0  Explanation\\nWhy the edits made under my usern...  ...              0\n",
              "1  D'aww! He matches this background colour I'm s...  ...              0\n",
              "2  Hey man, I'm really not trying to edit war. It...  ...              0\n",
              "3  \"\\nMore\\nI can't make any real suggestions on ...  ...              0\n",
              "4  You, sir, are my hero. Any chance you remember...  ...              0\n",
              "5  \"\\n\\nCongratulations from me as well, use the ...  ...              0\n",
              "6       COCKSUCKER BEFORE YOU PISS AROUND ON MY WORK  ...              1\n",
              "7  Your vandalism to the Matt Shirvington article...  ...              0\n",
              "8  Sorry if the word 'nonsense' was offensive to ...  ...              0\n",
              "9  alignment on this subject and which are contra...  ...              0\n",
              "\n",
              "[10 rows x 13 columns]"
            ]
          },
          "metadata": {
            "tags": []
          },
          "execution_count": 75
        }
      ]
    },
    {
      "cell_type": "code",
      "metadata": {
        "id": "TaLFkKayX6wl"
      },
      "source": [
        "final_train_data = data[[\"cleaned_comments\",\"binary_labels\",\"labels\"]]"
      ],
      "execution_count": null,
      "outputs": []
    },
    {
      "cell_type": "code",
      "metadata": {
        "colab": {
          "base_uri": "https://localhost:8080/",
          "height": 195
        },
        "id": "oaATKdmh5QQo",
        "outputId": "f314eaca-2e82-4864-84b4-ad5a486e9a50"
      },
      "source": [
        "final_train_data.head()"
      ],
      "execution_count": null,
      "outputs": [
        {
          "output_type": "execute_result",
          "data": {
            "text/html": [
              "<div>\n",
              "<style scoped>\n",
              "    .dataframe tbody tr th:only-of-type {\n",
              "        vertical-align: middle;\n",
              "    }\n",
              "\n",
              "    .dataframe tbody tr th {\n",
              "        vertical-align: top;\n",
              "    }\n",
              "\n",
              "    .dataframe thead th {\n",
              "        text-align: right;\n",
              "    }\n",
              "</style>\n",
              "<table border=\"1\" class=\"dataframe\">\n",
              "  <thead>\n",
              "    <tr style=\"text-align: right;\">\n",
              "      <th></th>\n",
              "      <th>cleaned_comments</th>\n",
              "      <th>binary_labels</th>\n",
              "      <th>labels</th>\n",
              "    </tr>\n",
              "  </thead>\n",
              "  <tbody>\n",
              "    <tr>\n",
              "      <th>0</th>\n",
              "      <td>explanation why the edits made under my userna...</td>\n",
              "      <td>0</td>\n",
              "      <td>[0, 0, 0, 0, 0, 0]</td>\n",
              "    </tr>\n",
              "    <tr>\n",
              "      <th>1</th>\n",
              "      <td>d'aww ! he matches this background colour i am...</td>\n",
              "      <td>0</td>\n",
              "      <td>[0, 0, 0, 0, 0, 0]</td>\n",
              "    </tr>\n",
              "    <tr>\n",
              "      <th>2</th>\n",
              "      <td>hey man , i am really not trying to edit war ....</td>\n",
              "      <td>0</td>\n",
              "      <td>[0, 0, 0, 0, 0, 0]</td>\n",
              "    </tr>\n",
              "    <tr>\n",
              "      <th>3</th>\n",
              "      <td>\" more i cannot make any real suggestions on i...</td>\n",
              "      <td>0</td>\n",
              "      <td>[0, 0, 0, 0, 0, 0]</td>\n",
              "    </tr>\n",
              "    <tr>\n",
              "      <th>4</th>\n",
              "      <td>you , sir , are my hero . any chance you remem...</td>\n",
              "      <td>0</td>\n",
              "      <td>[0, 0, 0, 0, 0, 0]</td>\n",
              "    </tr>\n",
              "  </tbody>\n",
              "</table>\n",
              "</div>"
            ],
            "text/plain": [
              "                                    cleaned_comments  ...              labels\n",
              "0  explanation why the edits made under my userna...  ...  [0, 0, 0, 0, 0, 0]\n",
              "1  d'aww ! he matches this background colour i am...  ...  [0, 0, 0, 0, 0, 0]\n",
              "2  hey man , i am really not trying to edit war ....  ...  [0, 0, 0, 0, 0, 0]\n",
              "3  \" more i cannot make any real suggestions on i...  ...  [0, 0, 0, 0, 0, 0]\n",
              "4  you , sir , are my hero . any chance you remem...  ...  [0, 0, 0, 0, 0, 0]\n",
              "\n",
              "[5 rows x 3 columns]"
            ]
          },
          "metadata": {
            "tags": []
          },
          "execution_count": 77
        }
      ]
    },
    {
      "cell_type": "code",
      "metadata": {
        "id": "RX1c53U55VF1"
      },
      "source": [
        "final_train_data.to_csv(\"/content/drive/MyDrive/uic/Toxic Comments/Data/train/cleaned_train.csv\",index=False)"
      ],
      "execution_count": null,
      "outputs": []
    },
    {
      "cell_type": "markdown",
      "metadata": {
        "id": "di3QqCUzmNie"
      },
      "source": [
        "### Test Data"
      ]
    },
    {
      "cell_type": "code",
      "metadata": {
        "id": "XX1cLLIuaty1"
      },
      "source": [
        "data_test = pd.read_csv(\"/content/drive/MyDrive/uic/Toxic Comments/Data/test/test.csv\")"
      ],
      "execution_count": 75,
      "outputs": []
    },
    {
      "cell_type": "code",
      "metadata": {
        "id": "Fq5qlOaheQSQ"
      },
      "source": [
        "data_test_labels = pd.read_csv(\"/content/drive/MyDrive/uic/Toxic Comments/Data/test/test_labels.csv\")"
      ],
      "execution_count": 76,
      "outputs": []
    },
    {
      "cell_type": "code",
      "metadata": {
        "colab": {
          "base_uri": "https://localhost:8080/",
          "height": 343
        },
        "id": "U-W4B9zka2Kv",
        "outputId": "81a01f1e-1a20-4439-8084-8ada33b07bd7"
      },
      "source": [
        "data_test.head(10)"
      ],
      "execution_count": 77,
      "outputs": [
        {
          "output_type": "execute_result",
          "data": {
            "text/html": [
              "<div>\n",
              "<style scoped>\n",
              "    .dataframe tbody tr th:only-of-type {\n",
              "        vertical-align: middle;\n",
              "    }\n",
              "\n",
              "    .dataframe tbody tr th {\n",
              "        vertical-align: top;\n",
              "    }\n",
              "\n",
              "    .dataframe thead th {\n",
              "        text-align: right;\n",
              "    }\n",
              "</style>\n",
              "<table border=\"1\" class=\"dataframe\">\n",
              "  <thead>\n",
              "    <tr style=\"text-align: right;\">\n",
              "      <th></th>\n",
              "      <th>id</th>\n",
              "      <th>comment_text</th>\n",
              "    </tr>\n",
              "  </thead>\n",
              "  <tbody>\n",
              "    <tr>\n",
              "      <th>0</th>\n",
              "      <td>00001cee341fdb12</td>\n",
              "      <td>Yo bitch Ja Rule is more succesful then you'll...</td>\n",
              "    </tr>\n",
              "    <tr>\n",
              "      <th>1</th>\n",
              "      <td>0000247867823ef7</td>\n",
              "      <td>== From RfC == \\n\\n The title is fine as it is...</td>\n",
              "    </tr>\n",
              "    <tr>\n",
              "      <th>2</th>\n",
              "      <td>00013b17ad220c46</td>\n",
              "      <td>\" \\n\\n == Sources == \\n\\n * Zawe Ashton on Lap...</td>\n",
              "    </tr>\n",
              "    <tr>\n",
              "      <th>3</th>\n",
              "      <td>00017563c3f7919a</td>\n",
              "      <td>:If you have a look back at the source, the in...</td>\n",
              "    </tr>\n",
              "    <tr>\n",
              "      <th>4</th>\n",
              "      <td>00017695ad8997eb</td>\n",
              "      <td>I don't anonymously edit articles at all.</td>\n",
              "    </tr>\n",
              "    <tr>\n",
              "      <th>5</th>\n",
              "      <td>0001ea8717f6de06</td>\n",
              "      <td>Thank you for understanding. I think very high...</td>\n",
              "    </tr>\n",
              "    <tr>\n",
              "      <th>6</th>\n",
              "      <td>00024115d4cbde0f</td>\n",
              "      <td>Please do not add nonsense to Wikipedia. Such ...</td>\n",
              "    </tr>\n",
              "    <tr>\n",
              "      <th>7</th>\n",
              "      <td>000247e83dcc1211</td>\n",
              "      <td>:Dear god this site is horrible.</td>\n",
              "    </tr>\n",
              "    <tr>\n",
              "      <th>8</th>\n",
              "      <td>00025358d4737918</td>\n",
              "      <td>\" \\n Only a fool can believe in such numbers. ...</td>\n",
              "    </tr>\n",
              "    <tr>\n",
              "      <th>9</th>\n",
              "      <td>00026d1092fe71cc</td>\n",
              "      <td>== Double Redirects == \\n\\n When fixing double...</td>\n",
              "    </tr>\n",
              "  </tbody>\n",
              "</table>\n",
              "</div>"
            ],
            "text/plain": [
              "                 id                                       comment_text\n",
              "0  00001cee341fdb12  Yo bitch Ja Rule is more succesful then you'll...\n",
              "1  0000247867823ef7  == From RfC == \\n\\n The title is fine as it is...\n",
              "2  00013b17ad220c46  \" \\n\\n == Sources == \\n\\n * Zawe Ashton on Lap...\n",
              "3  00017563c3f7919a  :If you have a look back at the source, the in...\n",
              "4  00017695ad8997eb          I don't anonymously edit articles at all.\n",
              "5  0001ea8717f6de06  Thank you for understanding. I think very high...\n",
              "6  00024115d4cbde0f  Please do not add nonsense to Wikipedia. Such ...\n",
              "7  000247e83dcc1211                   :Dear god this site is horrible.\n",
              "8  00025358d4737918  \" \\n Only a fool can believe in such numbers. ...\n",
              "9  00026d1092fe71cc  == Double Redirects == \\n\\n When fixing double..."
            ]
          },
          "metadata": {
            "tags": []
          },
          "execution_count": 77
        }
      ]
    },
    {
      "cell_type": "code",
      "metadata": {
        "colab": {
          "base_uri": "https://localhost:8080/",
          "height": 343
        },
        "id": "Vb_tr6tweYbu",
        "outputId": "1eef98ca-2327-45dc-cad1-d727760b605f"
      },
      "source": [
        "data_test_labels.head(10)"
      ],
      "execution_count": 78,
      "outputs": [
        {
          "output_type": "execute_result",
          "data": {
            "text/html": [
              "<div>\n",
              "<style scoped>\n",
              "    .dataframe tbody tr th:only-of-type {\n",
              "        vertical-align: middle;\n",
              "    }\n",
              "\n",
              "    .dataframe tbody tr th {\n",
              "        vertical-align: top;\n",
              "    }\n",
              "\n",
              "    .dataframe thead th {\n",
              "        text-align: right;\n",
              "    }\n",
              "</style>\n",
              "<table border=\"1\" class=\"dataframe\">\n",
              "  <thead>\n",
              "    <tr style=\"text-align: right;\">\n",
              "      <th></th>\n",
              "      <th>id</th>\n",
              "      <th>toxic</th>\n",
              "      <th>severe_toxic</th>\n",
              "      <th>obscene</th>\n",
              "      <th>threat</th>\n",
              "      <th>insult</th>\n",
              "      <th>identity_hate</th>\n",
              "    </tr>\n",
              "  </thead>\n",
              "  <tbody>\n",
              "    <tr>\n",
              "      <th>0</th>\n",
              "      <td>00001cee341fdb12</td>\n",
              "      <td>-1</td>\n",
              "      <td>-1</td>\n",
              "      <td>-1</td>\n",
              "      <td>-1</td>\n",
              "      <td>-1</td>\n",
              "      <td>-1</td>\n",
              "    </tr>\n",
              "    <tr>\n",
              "      <th>1</th>\n",
              "      <td>0000247867823ef7</td>\n",
              "      <td>-1</td>\n",
              "      <td>-1</td>\n",
              "      <td>-1</td>\n",
              "      <td>-1</td>\n",
              "      <td>-1</td>\n",
              "      <td>-1</td>\n",
              "    </tr>\n",
              "    <tr>\n",
              "      <th>2</th>\n",
              "      <td>00013b17ad220c46</td>\n",
              "      <td>-1</td>\n",
              "      <td>-1</td>\n",
              "      <td>-1</td>\n",
              "      <td>-1</td>\n",
              "      <td>-1</td>\n",
              "      <td>-1</td>\n",
              "    </tr>\n",
              "    <tr>\n",
              "      <th>3</th>\n",
              "      <td>00017563c3f7919a</td>\n",
              "      <td>-1</td>\n",
              "      <td>-1</td>\n",
              "      <td>-1</td>\n",
              "      <td>-1</td>\n",
              "      <td>-1</td>\n",
              "      <td>-1</td>\n",
              "    </tr>\n",
              "    <tr>\n",
              "      <th>4</th>\n",
              "      <td>00017695ad8997eb</td>\n",
              "      <td>-1</td>\n",
              "      <td>-1</td>\n",
              "      <td>-1</td>\n",
              "      <td>-1</td>\n",
              "      <td>-1</td>\n",
              "      <td>-1</td>\n",
              "    </tr>\n",
              "    <tr>\n",
              "      <th>5</th>\n",
              "      <td>0001ea8717f6de06</td>\n",
              "      <td>0</td>\n",
              "      <td>0</td>\n",
              "      <td>0</td>\n",
              "      <td>0</td>\n",
              "      <td>0</td>\n",
              "      <td>0</td>\n",
              "    </tr>\n",
              "    <tr>\n",
              "      <th>6</th>\n",
              "      <td>00024115d4cbde0f</td>\n",
              "      <td>-1</td>\n",
              "      <td>-1</td>\n",
              "      <td>-1</td>\n",
              "      <td>-1</td>\n",
              "      <td>-1</td>\n",
              "      <td>-1</td>\n",
              "    </tr>\n",
              "    <tr>\n",
              "      <th>7</th>\n",
              "      <td>000247e83dcc1211</td>\n",
              "      <td>0</td>\n",
              "      <td>0</td>\n",
              "      <td>0</td>\n",
              "      <td>0</td>\n",
              "      <td>0</td>\n",
              "      <td>0</td>\n",
              "    </tr>\n",
              "    <tr>\n",
              "      <th>8</th>\n",
              "      <td>00025358d4737918</td>\n",
              "      <td>-1</td>\n",
              "      <td>-1</td>\n",
              "      <td>-1</td>\n",
              "      <td>-1</td>\n",
              "      <td>-1</td>\n",
              "      <td>-1</td>\n",
              "    </tr>\n",
              "    <tr>\n",
              "      <th>9</th>\n",
              "      <td>00026d1092fe71cc</td>\n",
              "      <td>-1</td>\n",
              "      <td>-1</td>\n",
              "      <td>-1</td>\n",
              "      <td>-1</td>\n",
              "      <td>-1</td>\n",
              "      <td>-1</td>\n",
              "    </tr>\n",
              "  </tbody>\n",
              "</table>\n",
              "</div>"
            ],
            "text/plain": [
              "                 id  toxic  severe_toxic  ...  threat  insult  identity_hate\n",
              "0  00001cee341fdb12     -1            -1  ...      -1      -1             -1\n",
              "1  0000247867823ef7     -1            -1  ...      -1      -1             -1\n",
              "2  00013b17ad220c46     -1            -1  ...      -1      -1             -1\n",
              "3  00017563c3f7919a     -1            -1  ...      -1      -1             -1\n",
              "4  00017695ad8997eb     -1            -1  ...      -1      -1             -1\n",
              "5  0001ea8717f6de06      0             0  ...       0       0              0\n",
              "6  00024115d4cbde0f     -1            -1  ...      -1      -1             -1\n",
              "7  000247e83dcc1211      0             0  ...       0       0              0\n",
              "8  00025358d4737918     -1            -1  ...      -1      -1             -1\n",
              "9  00026d1092fe71cc     -1            -1  ...      -1      -1             -1\n",
              "\n",
              "[10 rows x 7 columns]"
            ]
          },
          "metadata": {
            "tags": []
          },
          "execution_count": 78
        }
      ]
    },
    {
      "cell_type": "code",
      "metadata": {
        "id": "FzzO8y8teH0r"
      },
      "source": [
        "data_test = data_test.drop(\"id\",axis=1)\r\n",
        "data_test_labels = data_test_labels.drop(\"id\",axis=1)"
      ],
      "execution_count": 79,
      "outputs": []
    },
    {
      "cell_type": "code",
      "metadata": {
        "colab": {
          "base_uri": "https://localhost:8080/"
        },
        "id": "Aq1l2niLbGAV",
        "outputId": "862b66d4-fad2-451f-b6f5-b0f3aa7039c1"
      },
      "source": [
        "data_test.shape"
      ],
      "execution_count": 80,
      "outputs": [
        {
          "output_type": "execute_result",
          "data": {
            "text/plain": [
              "(153164, 1)"
            ]
          },
          "metadata": {
            "tags": []
          },
          "execution_count": 80
        }
      ]
    },
    {
      "cell_type": "code",
      "metadata": {
        "id": "iMgTAvMNa4wB"
      },
      "source": [
        "data_test[\"cleaned_comments\"] = process(data_test.comment_text)"
      ],
      "execution_count": 81,
      "outputs": []
    },
    {
      "cell_type": "code",
      "metadata": {
        "colab": {
          "base_uri": "https://localhost:8080/",
          "height": 195
        },
        "id": "i7kvXM8lbDsv",
        "outputId": "37df99b8-2824-4dc9-cbc2-c64513f38fca"
      },
      "source": [
        "data_test.head()"
      ],
      "execution_count": 82,
      "outputs": [
        {
          "output_type": "execute_result",
          "data": {
            "text/html": [
              "<div>\n",
              "<style scoped>\n",
              "    .dataframe tbody tr th:only-of-type {\n",
              "        vertical-align: middle;\n",
              "    }\n",
              "\n",
              "    .dataframe tbody tr th {\n",
              "        vertical-align: top;\n",
              "    }\n",
              "\n",
              "    .dataframe thead th {\n",
              "        text-align: right;\n",
              "    }\n",
              "</style>\n",
              "<table border=\"1\" class=\"dataframe\">\n",
              "  <thead>\n",
              "    <tr style=\"text-align: right;\">\n",
              "      <th></th>\n",
              "      <th>comment_text</th>\n",
              "      <th>cleaned_comments</th>\n",
              "    </tr>\n",
              "  </thead>\n",
              "  <tbody>\n",
              "    <tr>\n",
              "      <th>0</th>\n",
              "      <td>Yo bitch Ja Rule is more succesful then you'll...</td>\n",
              "      <td>yo bitch ja rule is more succesful then you wi...</td>\n",
              "    </tr>\n",
              "    <tr>\n",
              "      <th>1</th>\n",
              "      <td>== From RfC == \\n\\n The title is fine as it is...</td>\n",
              "      <td>== from rfc == the title is fine as it is , imo .</td>\n",
              "    </tr>\n",
              "    <tr>\n",
              "      <th>2</th>\n",
              "      <td>\" \\n\\n == Sources == \\n\\n * Zawe Ashton on Lap...</td>\n",
              "      <td>\" == sources == * zawe ashton on lapland — / \"</td>\n",
              "    </tr>\n",
              "    <tr>\n",
              "      <th>3</th>\n",
              "      <td>:If you have a look back at the source, the in...</td>\n",
              "      <td>: if you have a look back at the source , the ...</td>\n",
              "    </tr>\n",
              "    <tr>\n",
              "      <th>4</th>\n",
              "      <td>I don't anonymously edit articles at all.</td>\n",
              "      <td>i do not anonymously edit articles at all .</td>\n",
              "    </tr>\n",
              "  </tbody>\n",
              "</table>\n",
              "</div>"
            ],
            "text/plain": [
              "                                        comment_text                                   cleaned_comments\n",
              "0  Yo bitch Ja Rule is more succesful then you'll...  yo bitch ja rule is more succesful then you wi...\n",
              "1  == From RfC == \\n\\n The title is fine as it is...  == from rfc == the title is fine as it is , imo .\n",
              "2  \" \\n\\n == Sources == \\n\\n * Zawe Ashton on Lap...     \" == sources == * zawe ashton on lapland — / \"\n",
              "3  :If you have a look back at the source, the in...  : if you have a look back at the source , the ...\n",
              "4          I don't anonymously edit articles at all.        i do not anonymously edit articles at all ."
            ]
          },
          "metadata": {
            "tags": []
          },
          "execution_count": 82
        }
      ]
    },
    {
      "cell_type": "code",
      "metadata": {
        "id": "RLICITQHgoDD"
      },
      "source": [
        "data_test = pd.concat([data_test,data_test_labels],axis=1)"
      ],
      "execution_count": 83,
      "outputs": []
    },
    {
      "cell_type": "code",
      "metadata": {
        "colab": {
          "base_uri": "https://localhost:8080/",
          "height": 394
        },
        "id": "-I7I7WpVhYnd",
        "outputId": "be559961-d5e8-4974-a364-843a5d2564b6"
      },
      "source": [
        "data_test.head(10)"
      ],
      "execution_count": 84,
      "outputs": [
        {
          "output_type": "execute_result",
          "data": {
            "text/html": [
              "<div>\n",
              "<style scoped>\n",
              "    .dataframe tbody tr th:only-of-type {\n",
              "        vertical-align: middle;\n",
              "    }\n",
              "\n",
              "    .dataframe tbody tr th {\n",
              "        vertical-align: top;\n",
              "    }\n",
              "\n",
              "    .dataframe thead th {\n",
              "        text-align: right;\n",
              "    }\n",
              "</style>\n",
              "<table border=\"1\" class=\"dataframe\">\n",
              "  <thead>\n",
              "    <tr style=\"text-align: right;\">\n",
              "      <th></th>\n",
              "      <th>comment_text</th>\n",
              "      <th>cleaned_comments</th>\n",
              "      <th>toxic</th>\n",
              "      <th>severe_toxic</th>\n",
              "      <th>obscene</th>\n",
              "      <th>threat</th>\n",
              "      <th>insult</th>\n",
              "      <th>identity_hate</th>\n",
              "    </tr>\n",
              "  </thead>\n",
              "  <tbody>\n",
              "    <tr>\n",
              "      <th>0</th>\n",
              "      <td>Yo bitch Ja Rule is more succesful then you'll...</td>\n",
              "      <td>yo bitch ja rule is more succesful then you wi...</td>\n",
              "      <td>-1</td>\n",
              "      <td>-1</td>\n",
              "      <td>-1</td>\n",
              "      <td>-1</td>\n",
              "      <td>-1</td>\n",
              "      <td>-1</td>\n",
              "    </tr>\n",
              "    <tr>\n",
              "      <th>1</th>\n",
              "      <td>== From RfC == \\n\\n The title is fine as it is...</td>\n",
              "      <td>== from rfc == the title is fine as it is , imo .</td>\n",
              "      <td>-1</td>\n",
              "      <td>-1</td>\n",
              "      <td>-1</td>\n",
              "      <td>-1</td>\n",
              "      <td>-1</td>\n",
              "      <td>-1</td>\n",
              "    </tr>\n",
              "    <tr>\n",
              "      <th>2</th>\n",
              "      <td>\" \\n\\n == Sources == \\n\\n * Zawe Ashton on Lap...</td>\n",
              "      <td>\" == sources == * zawe ashton on lapland — / \"</td>\n",
              "      <td>-1</td>\n",
              "      <td>-1</td>\n",
              "      <td>-1</td>\n",
              "      <td>-1</td>\n",
              "      <td>-1</td>\n",
              "      <td>-1</td>\n",
              "    </tr>\n",
              "    <tr>\n",
              "      <th>3</th>\n",
              "      <td>:If you have a look back at the source, the in...</td>\n",
              "      <td>: if you have a look back at the source , the ...</td>\n",
              "      <td>-1</td>\n",
              "      <td>-1</td>\n",
              "      <td>-1</td>\n",
              "      <td>-1</td>\n",
              "      <td>-1</td>\n",
              "      <td>-1</td>\n",
              "    </tr>\n",
              "    <tr>\n",
              "      <th>4</th>\n",
              "      <td>I don't anonymously edit articles at all.</td>\n",
              "      <td>i do not anonymously edit articles at all .</td>\n",
              "      <td>-1</td>\n",
              "      <td>-1</td>\n",
              "      <td>-1</td>\n",
              "      <td>-1</td>\n",
              "      <td>-1</td>\n",
              "      <td>-1</td>\n",
              "    </tr>\n",
              "    <tr>\n",
              "      <th>5</th>\n",
              "      <td>Thank you for understanding. I think very high...</td>\n",
              "      <td>thank you for understanding . i think very hig...</td>\n",
              "      <td>0</td>\n",
              "      <td>0</td>\n",
              "      <td>0</td>\n",
              "      <td>0</td>\n",
              "      <td>0</td>\n",
              "      <td>0</td>\n",
              "    </tr>\n",
              "    <tr>\n",
              "      <th>6</th>\n",
              "      <td>Please do not add nonsense to Wikipedia. Such ...</td>\n",
              "      <td>please do not add nonsense to wikipedia . such...</td>\n",
              "      <td>-1</td>\n",
              "      <td>-1</td>\n",
              "      <td>-1</td>\n",
              "      <td>-1</td>\n",
              "      <td>-1</td>\n",
              "      <td>-1</td>\n",
              "    </tr>\n",
              "    <tr>\n",
              "      <th>7</th>\n",
              "      <td>:Dear god this site is horrible.</td>\n",
              "      <td>: dear god this site is horrible .</td>\n",
              "      <td>0</td>\n",
              "      <td>0</td>\n",
              "      <td>0</td>\n",
              "      <td>0</td>\n",
              "      <td>0</td>\n",
              "      <td>0</td>\n",
              "    </tr>\n",
              "    <tr>\n",
              "      <th>8</th>\n",
              "      <td>\" \\n Only a fool can believe in such numbers. ...</td>\n",
              "      <td>\" only a fool can believe in such numbers . th...</td>\n",
              "      <td>-1</td>\n",
              "      <td>-1</td>\n",
              "      <td>-1</td>\n",
              "      <td>-1</td>\n",
              "      <td>-1</td>\n",
              "      <td>-1</td>\n",
              "    </tr>\n",
              "    <tr>\n",
              "      <th>9</th>\n",
              "      <td>== Double Redirects == \\n\\n When fixing double...</td>\n",
              "      <td>== double redirects == when fixing double redi...</td>\n",
              "      <td>-1</td>\n",
              "      <td>-1</td>\n",
              "      <td>-1</td>\n",
              "      <td>-1</td>\n",
              "      <td>-1</td>\n",
              "      <td>-1</td>\n",
              "    </tr>\n",
              "  </tbody>\n",
              "</table>\n",
              "</div>"
            ],
            "text/plain": [
              "                                        comment_text  ... identity_hate\n",
              "0  Yo bitch Ja Rule is more succesful then you'll...  ...            -1\n",
              "1  == From RfC == \\n\\n The title is fine as it is...  ...            -1\n",
              "2  \" \\n\\n == Sources == \\n\\n * Zawe Ashton on Lap...  ...            -1\n",
              "3  :If you have a look back at the source, the in...  ...            -1\n",
              "4          I don't anonymously edit articles at all.  ...            -1\n",
              "5  Thank you for understanding. I think very high...  ...             0\n",
              "6  Please do not add nonsense to Wikipedia. Such ...  ...            -1\n",
              "7                   :Dear god this site is horrible.  ...             0\n",
              "8  \" \\n Only a fool can believe in such numbers. ...  ...            -1\n",
              "9  == Double Redirects == \\n\\n When fixing double...  ...            -1\n",
              "\n",
              "[10 rows x 8 columns]"
            ]
          },
          "metadata": {
            "tags": []
          },
          "execution_count": 84
        }
      ]
    },
    {
      "cell_type": "code",
      "metadata": {
        "id": "Q87wAURyiG3U"
      },
      "source": [
        "test_labels = []\r\n",
        "\r\n",
        "for i in range(data_test.shape[0]):\r\n",
        "  test_labels.append([data_test.iloc[i,2],data_test.iloc[i,3],data_test.iloc[i,4],data_test.iloc[i,5],data_test.iloc[i,6],data_test.iloc[i,7]])\r\n",
        "data_test[\"labels\"] = test_labels"
      ],
      "execution_count": 86,
      "outputs": []
    },
    {
      "cell_type": "code",
      "metadata": {
        "colab": {
          "base_uri": "https://localhost:8080/",
          "height": 363
        },
        "id": "BKODG5v0iw-p",
        "outputId": "159e3c75-81d1-47e7-a5d5-e583cce51806"
      },
      "source": [
        "data_test.head()"
      ],
      "execution_count": 87,
      "outputs": [
        {
          "output_type": "execute_result",
          "data": {
            "text/html": [
              "<div>\n",
              "<style scoped>\n",
              "    .dataframe tbody tr th:only-of-type {\n",
              "        vertical-align: middle;\n",
              "    }\n",
              "\n",
              "    .dataframe tbody tr th {\n",
              "        vertical-align: top;\n",
              "    }\n",
              "\n",
              "    .dataframe thead th {\n",
              "        text-align: right;\n",
              "    }\n",
              "</style>\n",
              "<table border=\"1\" class=\"dataframe\">\n",
              "  <thead>\n",
              "    <tr style=\"text-align: right;\">\n",
              "      <th></th>\n",
              "      <th>comment_text</th>\n",
              "      <th>cleaned_comments</th>\n",
              "      <th>toxic</th>\n",
              "      <th>severe_toxic</th>\n",
              "      <th>obscene</th>\n",
              "      <th>threat</th>\n",
              "      <th>insult</th>\n",
              "      <th>identity_hate</th>\n",
              "      <th>labels</th>\n",
              "    </tr>\n",
              "  </thead>\n",
              "  <tbody>\n",
              "    <tr>\n",
              "      <th>0</th>\n",
              "      <td>Yo bitch Ja Rule is more succesful then you'll...</td>\n",
              "      <td>yo bitch ja rule is more succesful then you wi...</td>\n",
              "      <td>-1</td>\n",
              "      <td>-1</td>\n",
              "      <td>-1</td>\n",
              "      <td>-1</td>\n",
              "      <td>-1</td>\n",
              "      <td>-1</td>\n",
              "      <td>[-1, -1, -1, -1, -1, -1]</td>\n",
              "    </tr>\n",
              "    <tr>\n",
              "      <th>1</th>\n",
              "      <td>== From RfC == \\n\\n The title is fine as it is...</td>\n",
              "      <td>== from rfc == the title is fine as it is , imo .</td>\n",
              "      <td>-1</td>\n",
              "      <td>-1</td>\n",
              "      <td>-1</td>\n",
              "      <td>-1</td>\n",
              "      <td>-1</td>\n",
              "      <td>-1</td>\n",
              "      <td>[-1, -1, -1, -1, -1, -1]</td>\n",
              "    </tr>\n",
              "    <tr>\n",
              "      <th>2</th>\n",
              "      <td>\" \\n\\n == Sources == \\n\\n * Zawe Ashton on Lap...</td>\n",
              "      <td>\" == sources == * zawe ashton on lapland — / \"</td>\n",
              "      <td>-1</td>\n",
              "      <td>-1</td>\n",
              "      <td>-1</td>\n",
              "      <td>-1</td>\n",
              "      <td>-1</td>\n",
              "      <td>-1</td>\n",
              "      <td>[-1, -1, -1, -1, -1, -1]</td>\n",
              "    </tr>\n",
              "    <tr>\n",
              "      <th>3</th>\n",
              "      <td>:If you have a look back at the source, the in...</td>\n",
              "      <td>: if you have a look back at the source , the ...</td>\n",
              "      <td>-1</td>\n",
              "      <td>-1</td>\n",
              "      <td>-1</td>\n",
              "      <td>-1</td>\n",
              "      <td>-1</td>\n",
              "      <td>-1</td>\n",
              "      <td>[-1, -1, -1, -1, -1, -1]</td>\n",
              "    </tr>\n",
              "    <tr>\n",
              "      <th>4</th>\n",
              "      <td>I don't anonymously edit articles at all.</td>\n",
              "      <td>i do not anonymously edit articles at all .</td>\n",
              "      <td>-1</td>\n",
              "      <td>-1</td>\n",
              "      <td>-1</td>\n",
              "      <td>-1</td>\n",
              "      <td>-1</td>\n",
              "      <td>-1</td>\n",
              "      <td>[-1, -1, -1, -1, -1, -1]</td>\n",
              "    </tr>\n",
              "  </tbody>\n",
              "</table>\n",
              "</div>"
            ],
            "text/plain": [
              "                                        comment_text  ...                    labels\n",
              "0  Yo bitch Ja Rule is more succesful then you'll...  ...  [-1, -1, -1, -1, -1, -1]\n",
              "1  == From RfC == \\n\\n The title is fine as it is...  ...  [-1, -1, -1, -1, -1, -1]\n",
              "2  \" \\n\\n == Sources == \\n\\n * Zawe Ashton on Lap...  ...  [-1, -1, -1, -1, -1, -1]\n",
              "3  :If you have a look back at the source, the in...  ...  [-1, -1, -1, -1, -1, -1]\n",
              "4          I don't anonymously edit articles at all.  ...  [-1, -1, -1, -1, -1, -1]\n",
              "\n",
              "[5 rows x 9 columns]"
            ]
          },
          "metadata": {
            "tags": []
          },
          "execution_count": 87
        }
      ]
    },
    {
      "cell_type": "code",
      "metadata": {
        "id": "Ga-r9ckmjAK3"
      },
      "source": [
        "binary_labels = []\r\n",
        "\r\n",
        "binary_sum = [(data_test.toxic[i]+data_test.severe_toxic[i]+data_test.obscene[i]+data_test.threat[i]+data_test.insult[i]+data_test.identity_hate[i]) for i in range(data_test.shape[0])]"
      ],
      "execution_count": 88,
      "outputs": []
    },
    {
      "cell_type": "code",
      "metadata": {
        "id": "ODhobwYri66l"
      },
      "source": [
        "data_test[\"binary_sum\"] = binary_sum\r\n",
        "data_test[\"binary_labels\"] = data_test[\"binary_sum\"].apply(lambda x: 1 if x > 0 else x)"
      ],
      "execution_count": 89,
      "outputs": []
    },
    {
      "cell_type": "code",
      "metadata": {
        "id": "8gzPlUjEjP7t"
      },
      "source": [
        "data_test = data_test[data_test[\"binary_labels\"]>-1]"
      ],
      "execution_count": 96,
      "outputs": []
    },
    {
      "cell_type": "code",
      "metadata": {
        "colab": {
          "base_uri": "https://localhost:8080/",
          "height": 313
        },
        "id": "Lgx6TzKIjP3k",
        "outputId": "cd8d2e15-1137-4a7c-cf65-4913c32f3058"
      },
      "source": [
        "data_test.head()"
      ],
      "execution_count": 97,
      "outputs": [
        {
          "output_type": "execute_result",
          "data": {
            "text/html": [
              "<div>\n",
              "<style scoped>\n",
              "    .dataframe tbody tr th:only-of-type {\n",
              "        vertical-align: middle;\n",
              "    }\n",
              "\n",
              "    .dataframe tbody tr th {\n",
              "        vertical-align: top;\n",
              "    }\n",
              "\n",
              "    .dataframe thead th {\n",
              "        text-align: right;\n",
              "    }\n",
              "</style>\n",
              "<table border=\"1\" class=\"dataframe\">\n",
              "  <thead>\n",
              "    <tr style=\"text-align: right;\">\n",
              "      <th></th>\n",
              "      <th>comment_text</th>\n",
              "      <th>cleaned_comments</th>\n",
              "      <th>toxic</th>\n",
              "      <th>severe_toxic</th>\n",
              "      <th>obscene</th>\n",
              "      <th>threat</th>\n",
              "      <th>insult</th>\n",
              "      <th>identity_hate</th>\n",
              "      <th>labels</th>\n",
              "      <th>binary_sum</th>\n",
              "      <th>binary_labels</th>\n",
              "    </tr>\n",
              "  </thead>\n",
              "  <tbody>\n",
              "    <tr>\n",
              "      <th>5</th>\n",
              "      <td>Thank you for understanding. I think very high...</td>\n",
              "      <td>thank you for understanding . i think very hig...</td>\n",
              "      <td>0</td>\n",
              "      <td>0</td>\n",
              "      <td>0</td>\n",
              "      <td>0</td>\n",
              "      <td>0</td>\n",
              "      <td>0</td>\n",
              "      <td>[0, 0, 0, 0, 0, 0]</td>\n",
              "      <td>0</td>\n",
              "      <td>0</td>\n",
              "    </tr>\n",
              "    <tr>\n",
              "      <th>7</th>\n",
              "      <td>:Dear god this site is horrible.</td>\n",
              "      <td>: dear god this site is horrible .</td>\n",
              "      <td>0</td>\n",
              "      <td>0</td>\n",
              "      <td>0</td>\n",
              "      <td>0</td>\n",
              "      <td>0</td>\n",
              "      <td>0</td>\n",
              "      <td>[0, 0, 0, 0, 0, 0]</td>\n",
              "      <td>0</td>\n",
              "      <td>0</td>\n",
              "    </tr>\n",
              "    <tr>\n",
              "      <th>11</th>\n",
              "      <td>\"::: Somebody will invariably try to add Relig...</td>\n",
              "      <td>\" : : : somebody will invariably try to add re...</td>\n",
              "      <td>0</td>\n",
              "      <td>0</td>\n",
              "      <td>0</td>\n",
              "      <td>0</td>\n",
              "      <td>0</td>\n",
              "      <td>0</td>\n",
              "      <td>[0, 0, 0, 0, 0, 0]</td>\n",
              "      <td>0</td>\n",
              "      <td>0</td>\n",
              "    </tr>\n",
              "    <tr>\n",
              "      <th>13</th>\n",
              "      <td>\" \\n\\n It says it right there that it IS a typ...</td>\n",
              "      <td>\" it says it right there that it is a type . t...</td>\n",
              "      <td>0</td>\n",
              "      <td>0</td>\n",
              "      <td>0</td>\n",
              "      <td>0</td>\n",
              "      <td>0</td>\n",
              "      <td>0</td>\n",
              "      <td>[0, 0, 0, 0, 0, 0]</td>\n",
              "      <td>0</td>\n",
              "      <td>0</td>\n",
              "    </tr>\n",
              "    <tr>\n",
              "      <th>14</th>\n",
              "      <td>\" \\n\\n == Before adding a new product to the l...</td>\n",
              "      <td>\" == before adding a new product to the list ,...</td>\n",
              "      <td>0</td>\n",
              "      <td>0</td>\n",
              "      <td>0</td>\n",
              "      <td>0</td>\n",
              "      <td>0</td>\n",
              "      <td>0</td>\n",
              "      <td>[0, 0, 0, 0, 0, 0]</td>\n",
              "      <td>0</td>\n",
              "      <td>0</td>\n",
              "    </tr>\n",
              "  </tbody>\n",
              "</table>\n",
              "</div>"
            ],
            "text/plain": [
              "                                         comment_text  ... binary_labels\n",
              "5   Thank you for understanding. I think very high...  ...             0\n",
              "7                    :Dear god this site is horrible.  ...             0\n",
              "11  \"::: Somebody will invariably try to add Relig...  ...             0\n",
              "13  \" \\n\\n It says it right there that it IS a typ...  ...             0\n",
              "14  \" \\n\\n == Before adding a new product to the l...  ...             0\n",
              "\n",
              "[5 rows x 11 columns]"
            ]
          },
          "metadata": {
            "tags": []
          },
          "execution_count": 97
        }
      ]
    },
    {
      "cell_type": "code",
      "metadata": {
        "id": "G7JCXCoJlY0Z"
      },
      "source": [
        "final_test_data = data_test[[\"cleaned_comments\",\"binary_labels\",\"labels\"]]"
      ],
      "execution_count": 99,
      "outputs": []
    },
    {
      "cell_type": "code",
      "metadata": {
        "colab": {
          "base_uri": "https://localhost:8080/",
          "height": 195
        },
        "id": "F2VOElAVmHl_",
        "outputId": "df9471c1-4daa-46e4-8a14-4f61142f19ea"
      },
      "source": [
        "final_test_data.head()"
      ],
      "execution_count": 100,
      "outputs": [
        {
          "output_type": "execute_result",
          "data": {
            "text/html": [
              "<div>\n",
              "<style scoped>\n",
              "    .dataframe tbody tr th:only-of-type {\n",
              "        vertical-align: middle;\n",
              "    }\n",
              "\n",
              "    .dataframe tbody tr th {\n",
              "        vertical-align: top;\n",
              "    }\n",
              "\n",
              "    .dataframe thead th {\n",
              "        text-align: right;\n",
              "    }\n",
              "</style>\n",
              "<table border=\"1\" class=\"dataframe\">\n",
              "  <thead>\n",
              "    <tr style=\"text-align: right;\">\n",
              "      <th></th>\n",
              "      <th>cleaned_comments</th>\n",
              "      <th>binary_labels</th>\n",
              "      <th>labels</th>\n",
              "    </tr>\n",
              "  </thead>\n",
              "  <tbody>\n",
              "    <tr>\n",
              "      <th>5</th>\n",
              "      <td>thank you for understanding . i think very hig...</td>\n",
              "      <td>0</td>\n",
              "      <td>[0, 0, 0, 0, 0, 0]</td>\n",
              "    </tr>\n",
              "    <tr>\n",
              "      <th>7</th>\n",
              "      <td>: dear god this site is horrible .</td>\n",
              "      <td>0</td>\n",
              "      <td>[0, 0, 0, 0, 0, 0]</td>\n",
              "    </tr>\n",
              "    <tr>\n",
              "      <th>11</th>\n",
              "      <td>\" : : : somebody will invariably try to add re...</td>\n",
              "      <td>0</td>\n",
              "      <td>[0, 0, 0, 0, 0, 0]</td>\n",
              "    </tr>\n",
              "    <tr>\n",
              "      <th>13</th>\n",
              "      <td>\" it says it right there that it is a type . t...</td>\n",
              "      <td>0</td>\n",
              "      <td>[0, 0, 0, 0, 0, 0]</td>\n",
              "    </tr>\n",
              "    <tr>\n",
              "      <th>14</th>\n",
              "      <td>\" == before adding a new product to the list ,...</td>\n",
              "      <td>0</td>\n",
              "      <td>[0, 0, 0, 0, 0, 0]</td>\n",
              "    </tr>\n",
              "  </tbody>\n",
              "</table>\n",
              "</div>"
            ],
            "text/plain": [
              "                                     cleaned_comments  ...              labels\n",
              "5   thank you for understanding . i think very hig...  ...  [0, 0, 0, 0, 0, 0]\n",
              "7                  : dear god this site is horrible .  ...  [0, 0, 0, 0, 0, 0]\n",
              "11  \" : : : somebody will invariably try to add re...  ...  [0, 0, 0, 0, 0, 0]\n",
              "13  \" it says it right there that it is a type . t...  ...  [0, 0, 0, 0, 0, 0]\n",
              "14  \" == before adding a new product to the list ,...  ...  [0, 0, 0, 0, 0, 0]\n",
              "\n",
              "[5 rows x 3 columns]"
            ]
          },
          "metadata": {
            "tags": []
          },
          "execution_count": 100
        }
      ]
    },
    {
      "cell_type": "code",
      "metadata": {
        "id": "F5zgTimtmJ3d"
      },
      "source": [
        "final_test_data.to_csv(\"/content/drive/MyDrive/uic/Toxic Comments/Data/test/cleaned_test.csv\",index=False)"
      ],
      "execution_count": 101,
      "outputs": []
    },
    {
      "cell_type": "markdown",
      "metadata": {
        "id": "FGilKsse15XX"
      },
      "source": [
        "### train validation split\r\n",
        "\r\n"
      ]
    },
    {
      "cell_type": "code",
      "metadata": {
        "id": "-3lx-vN357L1"
      },
      "source": [
        "final_data = pd.read_csv(\"/content/drive/MyDrive/uic/Toxic Comments/Data/train/cleaned_train.csv\")"
      ],
      "execution_count": 2,
      "outputs": []
    },
    {
      "cell_type": "code",
      "metadata": {
        "colab": {
          "base_uri": "https://localhost:8080/",
          "height": 195
        },
        "id": "PJvl5gvk6BAv",
        "outputId": "640c46cf-c77d-4bf8-d668-1c6732452e81"
      },
      "source": [
        "final_data.head()"
      ],
      "execution_count": 3,
      "outputs": [
        {
          "output_type": "execute_result",
          "data": {
            "text/html": [
              "<div>\n",
              "<style scoped>\n",
              "    .dataframe tbody tr th:only-of-type {\n",
              "        vertical-align: middle;\n",
              "    }\n",
              "\n",
              "    .dataframe tbody tr th {\n",
              "        vertical-align: top;\n",
              "    }\n",
              "\n",
              "    .dataframe thead th {\n",
              "        text-align: right;\n",
              "    }\n",
              "</style>\n",
              "<table border=\"1\" class=\"dataframe\">\n",
              "  <thead>\n",
              "    <tr style=\"text-align: right;\">\n",
              "      <th></th>\n",
              "      <th>cleaned_comments</th>\n",
              "      <th>binary_labels</th>\n",
              "      <th>labels</th>\n",
              "    </tr>\n",
              "  </thead>\n",
              "  <tbody>\n",
              "    <tr>\n",
              "      <th>0</th>\n",
              "      <td>explanation why the edits made under my userna...</td>\n",
              "      <td>0</td>\n",
              "      <td>[0, 0, 0, 0, 0, 0]</td>\n",
              "    </tr>\n",
              "    <tr>\n",
              "      <th>1</th>\n",
              "      <td>d'aww ! he matches this background colour i am...</td>\n",
              "      <td>0</td>\n",
              "      <td>[0, 0, 0, 0, 0, 0]</td>\n",
              "    </tr>\n",
              "    <tr>\n",
              "      <th>2</th>\n",
              "      <td>hey man , i am really not trying to edit war ....</td>\n",
              "      <td>0</td>\n",
              "      <td>[0, 0, 0, 0, 0, 0]</td>\n",
              "    </tr>\n",
              "    <tr>\n",
              "      <th>3</th>\n",
              "      <td>\" more i cannot make any real suggestions on i...</td>\n",
              "      <td>0</td>\n",
              "      <td>[0, 0, 0, 0, 0, 0]</td>\n",
              "    </tr>\n",
              "    <tr>\n",
              "      <th>4</th>\n",
              "      <td>you , sir , are my hero . any chance you remem...</td>\n",
              "      <td>0</td>\n",
              "      <td>[0, 0, 0, 0, 0, 0]</td>\n",
              "    </tr>\n",
              "  </tbody>\n",
              "</table>\n",
              "</div>"
            ],
            "text/plain": [
              "                                    cleaned_comments  ...              labels\n",
              "0  explanation why the edits made under my userna...  ...  [0, 0, 0, 0, 0, 0]\n",
              "1  d'aww ! he matches this background colour i am...  ...  [0, 0, 0, 0, 0, 0]\n",
              "2  hey man , i am really not trying to edit war ....  ...  [0, 0, 0, 0, 0, 0]\n",
              "3  \" more i cannot make any real suggestions on i...  ...  [0, 0, 0, 0, 0, 0]\n",
              "4  you , sir , are my hero . any chance you remem...  ...  [0, 0, 0, 0, 0, 0]\n",
              "\n",
              "[5 rows x 3 columns]"
            ]
          },
          "metadata": {
            "tags": []
          },
          "execution_count": 3
        }
      ]
    },
    {
      "cell_type": "code",
      "metadata": {
        "id": "RO8JZdWptqS0"
      },
      "source": [
        "labels = []"
      ],
      "execution_count": 4,
      "outputs": []
    },
    {
      "cell_type": "code",
      "metadata": {
        "id": "VpZ5LqqBtynf"
      },
      "source": [
        "for l in final_data.labels:\r\n",
        "  labels.append(np.asarray([float(i) for i in l.replace(\"[\",\"\").replace(\"]\",\"\").split(\", \")]))"
      ],
      "execution_count": 5,
      "outputs": []
    },
    {
      "cell_type": "code",
      "metadata": {
        "id": "LPZJaiIh81-Q"
      },
      "source": [
        "X_train, X_val, y_train, y_val = train_test_split(final_data.cleaned_comments, np.asarray(labels), test_size=0.20, random_state=42)"
      ],
      "execution_count": 6,
      "outputs": []
    },
    {
      "cell_type": "code",
      "metadata": {
        "id": "7Pmh_rJx-Rz-"
      },
      "source": [
        "del final_data"
      ],
      "execution_count": 7,
      "outputs": []
    },
    {
      "cell_type": "code",
      "metadata": {
        "colab": {
          "base_uri": "https://localhost:8080/"
        },
        "id": "dOQCOEsL-dkh",
        "outputId": "a819a243-f366-443f-f59c-505a8e6e93b5"
      },
      "source": [
        "X_train"
      ],
      "execution_count": 8,
      "outputs": [
        {
          "output_type": "execute_result",
          "data": {
            "text/plain": [
              "140030    grandma terri should burn in trash grandma ter...\n",
              "159124    , 9 may 2009 ( utc ) it would be easiest if yo...\n",
              "60006     \" the objectivity of this discussion is doubtf...\n",
              "65432                shelly shock shelly shock is . . . ( )\n",
              "154979    i do not care . refer to ong teng cheong talk ...\n",
              "                                ...                        \n",
              "119879    redirect talk : john loveday ( experimental ph...\n",
              "103694    back it up . post the line here with the refer...\n",
              "131932    i will not stop that . sometimes germanic equa...\n",
              "146867    \" british bands ? i think you have mistaken sc...\n",
              "121958    you are wrong . justin thompson is mentioned i...\n",
              "Name: cleaned_comments, Length: 127656, dtype: object"
            ]
          },
          "metadata": {
            "tags": []
          },
          "execution_count": 8
        }
      ]
    },
    {
      "cell_type": "code",
      "metadata": {
        "colab": {
          "base_uri": "https://localhost:8080/"
        },
        "id": "2JiA6DO1-Xjm",
        "outputId": "f408c959-9533-4391-a427-1e9e019416a7"
      },
      "source": [
        "y_train"
      ],
      "execution_count": 9,
      "outputs": [
        {
          "output_type": "execute_result",
          "data": {
            "text/plain": [
              "array([[1., 0., 0., 0., 0., 0.],\n",
              "       [0., 0., 0., 0., 0., 0.],\n",
              "       [0., 0., 0., 0., 0., 0.],\n",
              "       ...,\n",
              "       [1., 0., 0., 0., 0., 0.],\n",
              "       [0., 0., 0., 0., 0., 0.],\n",
              "       [0., 0., 0., 0., 0., 0.]])"
            ]
          },
          "metadata": {
            "tags": []
          },
          "execution_count": 9
        }
      ]
    },
    {
      "cell_type": "code",
      "metadata": {
        "id": "xoUg-VdknHIz"
      },
      "source": [
        "final_test_data = pd.read_csv(\"/content/drive/MyDrive/uic/Toxic Comments/Data/test/cleaned_test.csv\")"
      ],
      "execution_count": 102,
      "outputs": []
    },
    {
      "cell_type": "code",
      "metadata": {
        "colab": {
          "base_uri": "https://localhost:8080/",
          "height": 195
        },
        "id": "fkkapMgInNP4",
        "outputId": "d8efbdb6-37aa-4e24-df33-3b6cdf417823"
      },
      "source": [
        "final_test_data.head()"
      ],
      "execution_count": 103,
      "outputs": [
        {
          "output_type": "execute_result",
          "data": {
            "text/html": [
              "<div>\n",
              "<style scoped>\n",
              "    .dataframe tbody tr th:only-of-type {\n",
              "        vertical-align: middle;\n",
              "    }\n",
              "\n",
              "    .dataframe tbody tr th {\n",
              "        vertical-align: top;\n",
              "    }\n",
              "\n",
              "    .dataframe thead th {\n",
              "        text-align: right;\n",
              "    }\n",
              "</style>\n",
              "<table border=\"1\" class=\"dataframe\">\n",
              "  <thead>\n",
              "    <tr style=\"text-align: right;\">\n",
              "      <th></th>\n",
              "      <th>cleaned_comments</th>\n",
              "      <th>binary_labels</th>\n",
              "      <th>labels</th>\n",
              "    </tr>\n",
              "  </thead>\n",
              "  <tbody>\n",
              "    <tr>\n",
              "      <th>0</th>\n",
              "      <td>thank you for understanding . i think very hig...</td>\n",
              "      <td>0</td>\n",
              "      <td>[0, 0, 0, 0, 0, 0]</td>\n",
              "    </tr>\n",
              "    <tr>\n",
              "      <th>1</th>\n",
              "      <td>: dear god this site is horrible .</td>\n",
              "      <td>0</td>\n",
              "      <td>[0, 0, 0, 0, 0, 0]</td>\n",
              "    </tr>\n",
              "    <tr>\n",
              "      <th>2</th>\n",
              "      <td>\" : : : somebody will invariably try to add re...</td>\n",
              "      <td>0</td>\n",
              "      <td>[0, 0, 0, 0, 0, 0]</td>\n",
              "    </tr>\n",
              "    <tr>\n",
              "      <th>3</th>\n",
              "      <td>\" it says it right there that it is a type . t...</td>\n",
              "      <td>0</td>\n",
              "      <td>[0, 0, 0, 0, 0, 0]</td>\n",
              "    </tr>\n",
              "    <tr>\n",
              "      <th>4</th>\n",
              "      <td>\" == before adding a new product to the list ,...</td>\n",
              "      <td>0</td>\n",
              "      <td>[0, 0, 0, 0, 0, 0]</td>\n",
              "    </tr>\n",
              "  </tbody>\n",
              "</table>\n",
              "</div>"
            ],
            "text/plain": [
              "                                    cleaned_comments  ...              labels\n",
              "0  thank you for understanding . i think very hig...  ...  [0, 0, 0, 0, 0, 0]\n",
              "1                 : dear god this site is horrible .  ...  [0, 0, 0, 0, 0, 0]\n",
              "2  \" : : : somebody will invariably try to add re...  ...  [0, 0, 0, 0, 0, 0]\n",
              "3  \" it says it right there that it is a type . t...  ...  [0, 0, 0, 0, 0, 0]\n",
              "4  \" == before adding a new product to the list ,...  ...  [0, 0, 0, 0, 0, 0]\n",
              "\n",
              "[5 rows x 3 columns]"
            ]
          },
          "metadata": {
            "tags": []
          },
          "execution_count": 103
        }
      ]
    },
    {
      "cell_type": "code",
      "metadata": {
        "id": "ZImgNj0soQQ4"
      },
      "source": [
        "X_test = final_test_data.cleaned_comments"
      ],
      "execution_count": 108,
      "outputs": []
    },
    {
      "cell_type": "code",
      "metadata": {
        "id": "rwM_ocX7nSD6"
      },
      "source": [
        "y_test = []\r\n",
        "for l in final_test_data.labels:\r\n",
        "  y_test.append(np.asarray([float(i) for i in l.replace(\"[\",\"\").replace(\"]\",\"\").split(\", \")]))"
      ],
      "execution_count": 104,
      "outputs": []
    },
    {
      "cell_type": "code",
      "metadata": {
        "colab": {
          "base_uri": "https://localhost:8080/"
        },
        "id": "mm3QeJsToIcb",
        "outputId": "237b71ae-1c31-4aeb-f49f-f8b6e6a37645"
      },
      "source": [
        "y_test = np.asarray(y_test)\r\n",
        "y_test"
      ],
      "execution_count": 107,
      "outputs": [
        {
          "output_type": "execute_result",
          "data": {
            "text/plain": [
              "array([[0., 0., 0., 0., 0., 0.],\n",
              "       [0., 0., 0., 0., 0., 0.],\n",
              "       [0., 0., 0., 0., 0., 0.],\n",
              "       ...,\n",
              "       [0., 0., 0., 0., 0., 0.],\n",
              "       [1., 0., 1., 0., 1., 0.],\n",
              "       [0., 0., 0., 0., 0., 0.]])"
            ]
          },
          "metadata": {
            "tags": []
          },
          "execution_count": 107
        }
      ]
    },
    {
      "cell_type": "markdown",
      "metadata": {
        "id": "Q0g27mrCcUuj"
      },
      "source": [
        "## Modeling"
      ]
    },
    {
      "cell_type": "code",
      "metadata": {
        "id": "5i5avy9U-4ZH"
      },
      "source": [
        "from keras import optimizers\r\n",
        "from keras.preprocessing.text import one_hot, Tokenizer\r\n",
        "from keras.preprocessing.sequence import pad_sequences\r\n",
        "from keras.models import Sequential\r\n",
        "from keras.layers import Dense,LSTM,LeakyReLU\r\n",
        "from keras.layers.embeddings import Embedding\r\n",
        "from keras.metrics import Recall\r\n",
        "from keras.callbacks import ModelCheckpoint"
      ],
      "execution_count": 41,
      "outputs": []
    },
    {
      "cell_type": "code",
      "metadata": {
        "colab": {
          "base_uri": "https://localhost:8080/"
        },
        "id": "X6jJO0rFdut5",
        "outputId": "e7a3a4f3-2d6c-40bc-cc93-3f151be7723e"
      },
      "source": [
        "# load the whole embedding into memory\r\n",
        "embeddings_index = dict()\r\n",
        "f = open('/content/drive/MyDrive/uic/Toxic Comments/Data/glove.6B.300d.txt')\r\n",
        "for line in f:\r\n",
        "  values = line.split()\r\n",
        "  word = values[0]\r\n",
        "  coefs = np.asarray(values[1:], dtype='float32')\r\n",
        "  embeddings_index[word] = coefs\r\n",
        "f.close()\r\n",
        "print('Loaded %s word vectors.' % len(embeddings_index))"
      ],
      "execution_count": 11,
      "outputs": [
        {
          "output_type": "stream",
          "text": [
            "Loaded 400000 word vectors.\n"
          ],
          "name": "stdout"
        }
      ]
    },
    {
      "cell_type": "code",
      "metadata": {
        "id": "Az7fT-oh07jc"
      },
      "source": [
        "t = Tokenizer()\r\n",
        "t.fit_on_texts(X_train)\r\n",
        "vocab_size = len(t.word_index) + 1"
      ],
      "execution_count": 12,
      "outputs": []
    },
    {
      "cell_type": "code",
      "metadata": {
        "colab": {
          "base_uri": "https://localhost:8080/"
        },
        "id": "U7KeX5V2cen_",
        "outputId": "f3fe81ae-ddda-4dd1-b666-436639ccdc70"
      },
      "source": [
        "# integer encode the documents\r\n",
        "encoded_X_train = t.texts_to_sequences(X_train)\r\n",
        "# print(encoded_docs)\r\n",
        "# pad documents to a max length of words\r\n",
        "max_length = 40\r\n",
        "padded_X_train = pad_sequences(encoded_X_train, maxlen=max_length, padding='post')\r\n",
        "print(padded_X_train)"
      ],
      "execution_count": 13,
      "outputs": [
        {
          "output_type": "stream",
          "text": [
            "[[12873  8243    57 ...     0     0     0]\n",
            " [    1  1391   352 ... 11242   533  1248]\n",
            " [ 4421 23929   168 ...     1 27903 34039]\n",
            " ...\n",
            " [45507 17367     5 ...    15    30  9869]\n",
            " [  623  1536     3 ...     0     0     0]\n",
            " [    6    17   231 ...     0     0     0]]\n"
          ],
          "name": "stdout"
        }
      ]
    },
    {
      "cell_type": "code",
      "metadata": {
        "colab": {
          "base_uri": "https://localhost:8080/"
        },
        "id": "sOQq5sNB0eEf",
        "outputId": "cb937a75-e3e0-49b3-c349-965b6ab87818"
      },
      "source": [
        "# integer encode the documents\r\n",
        "encoded_X_val = t.texts_to_sequences(X_val)\r\n",
        "# print(encoded_docs)\r\n",
        "# pad documents to a max length of words\r\n",
        "max_length = 40\r\n",
        "padded_X_val = pad_sequences(encoded_X_val, maxlen=max_length, padding='post')\r\n",
        "print(padded_X_val)"
      ],
      "execution_count": 14,
      "outputs": [
        {
          "output_type": "stream",
          "text": [
            "[[   66   433  1000 ...   154     7 10675]\n",
            " [   13    20   331 ...    70   125     6]\n",
            " [ 4127    48  4430 ...     0     0     0]\n",
            " ...\n",
            " [  206     9   322 ...     8     7   141]\n",
            " [    7  1638   479 ...     0     0     0]\n",
            " [   27     3    77 ... 19121    26   134]]\n"
          ],
          "name": "stdout"
        }
      ]
    },
    {
      "cell_type": "code",
      "metadata": {
        "colab": {
          "base_uri": "https://localhost:8080/"
        },
        "id": "eNNz17Vcm5ye",
        "outputId": "5c249671-25aa-4c3f-be64-c1a39044336e"
      },
      "source": [
        "# integer encode the documents\r\n",
        "encoded_X_test = t.texts_to_sequences(X_test)\r\n",
        "# print(encoded_docs)\r\n",
        "# pad documents to a max length of words\r\n",
        "max_length = 40\r\n",
        "padded_X_test = pad_sequences(encoded_X_test, maxlen=max_length, padding='post')\r\n",
        "print(padded_X_test)"
      ],
      "execution_count": 109,
      "outputs": [
        {
          "output_type": "stream",
          "text": [
            "[[  125     6    13 ...     0     0     0]\n",
            " [ 1015   559    14 ...     0     0     0]\n",
            " [ 2824    75     1 ...    11     1  1162]\n",
            " ...\n",
            " [ 2231    15     6 ...     0     0     0]\n",
            " [ 6143  7182     8 ...     0     0     0]\n",
            " [21617 31065  4031 ...  1290    10     0]]\n"
          ],
          "name": "stdout"
        }
      ]
    },
    {
      "cell_type": "code",
      "metadata": {
        "id": "S_ufJpyZkF_i"
      },
      "source": [
        "# create a weight matrix for words in training docs\r\n",
        "embedding_matrix = np.zeros((vocab_size, 300))\r\n",
        "for word, i in t.word_index.items():\r\n",
        "\tembedding_vector = embeddings_index.get(word)\r\n",
        "\tif embedding_vector is not None:\r\n",
        "\t\tembedding_matrix[i] = embedding_vector"
      ],
      "execution_count": 15,
      "outputs": []
    },
    {
      "cell_type": "code",
      "metadata": {
        "colab": {
          "base_uri": "https://localhost:8080/"
        },
        "id": "rTFDRU9PkMoH",
        "outputId": "a715be15-27ca-4662-9a09-df591e378978"
      },
      "source": [
        "# define model\r\n",
        "model = Sequential()\r\n",
        "e = Embedding(vocab_size, 300, weights=[embedding_matrix], input_length=max_length, trainable=False)\r\n",
        "model.add(e)\r\n",
        "model.add(LSTM(300))\r\n",
        "model.add(Dense(512))\r\n",
        "model.add(LeakyReLU(alpha=0.2))\r\n",
        "model.add(Dense(6, activation='sigmoid'))\r\n",
        "# compile the model\r\n",
        "model.compile(optimizer=optimizers.Adam(learning_rate=0.0003), loss='binary_crossentropy', metrics=[Recall()])\r\n",
        "# summarize the model\r\n",
        "print(model.summary())\r\n",
        "# fit the model\r\n",
        "# model.fit(padded_docs, y_train, epochs=2, verbose=0)\r\n",
        "# # evaluate the model\r\n",
        "# loss, accuracy = model.evaluate(padded_docs, labels, verbose=0)\r\n",
        "# print('Accuracy: %f' % (accuracy*100))"
      ],
      "execution_count": 45,
      "outputs": [
        {
          "output_type": "stream",
          "text": [
            "Model: \"sequential_6\"\n",
            "_________________________________________________________________\n",
            "Layer (type)                 Output Shape              Param #   \n",
            "=================================================================\n",
            "embedding_6 (Embedding)      (None, 40, 300)           54771600  \n",
            "_________________________________________________________________\n",
            "lstm_6 (LSTM)                (None, 300)               721200    \n",
            "_________________________________________________________________\n",
            "dense_8 (Dense)              (None, 512)               154112    \n",
            "_________________________________________________________________\n",
            "leaky_re_lu_2 (LeakyReLU)    (None, 512)               0         \n",
            "_________________________________________________________________\n",
            "dense_9 (Dense)              (None, 6)                 3078      \n",
            "=================================================================\n",
            "Total params: 55,649,990\n",
            "Trainable params: 878,390\n",
            "Non-trainable params: 54,771,600\n",
            "_________________________________________________________________\n",
            "None\n"
          ],
          "name": "stdout"
        }
      ]
    },
    {
      "cell_type": "code",
      "metadata": {
        "colab": {
          "base_uri": "https://localhost:8080/"
        },
        "id": "_eMed4o5ypml",
        "outputId": "3b688867-560a-4faa-98eb-a858bf6b1a54"
      },
      "source": [
        "# checkpointer to save the best model\r\n",
        "checkpointer = ModelCheckpoint(filepath='/content/drive/MyDrive/uic/Toxic Comments/Model/model.h5', monitor='loss', verbose=1, save_best_only=True)\r\n",
        "\r\n",
        "history = model.fit(padded_X_train, y_train,validation_data=(padded_X_val,y_val), epochs=50, batch_size=64, callbacks=checkpointer)"
      ],
      "execution_count": 46,
      "outputs": [
        {
          "output_type": "stream",
          "text": [
            "Epoch 1/50\n",
            "1995/1995 [==============================] - 22s 10ms/step - loss: 0.1057 - recall_4: 0.3286 - val_loss: 0.0620 - val_recall_4: 0.5088\n",
            "\n",
            "Epoch 00001: loss improved from inf to 0.07530, saving model to /content/drive/MyDrive/uic/Toxic Comments/Model/model.h5\n",
            "Epoch 2/50\n",
            "1995/1995 [==============================] - 20s 10ms/step - loss: 0.0592 - recall_4: 0.5752 - val_loss: 0.0577 - val_recall_4: 0.6138\n",
            "\n",
            "Epoch 00002: loss improved from 0.07530 to 0.05814, saving model to /content/drive/MyDrive/uic/Toxic Comments/Model/model.h5\n",
            "Epoch 3/50\n",
            "1995/1995 [==============================] - 20s 10ms/step - loss: 0.0546 - recall_4: 0.6141 - val_loss: 0.0555 - val_recall_4: 0.6141\n",
            "\n",
            "Epoch 00003: loss improved from 0.05814 to 0.05408, saving model to /content/drive/MyDrive/uic/Toxic Comments/Model/model.h5\n",
            "Epoch 4/50\n",
            "1995/1995 [==============================] - 20s 10ms/step - loss: 0.0509 - recall_4: 0.6384 - val_loss: 0.0530 - val_recall_4: 0.6552\n",
            "\n",
            "Epoch 00004: loss improved from 0.05408 to 0.05033, saving model to /content/drive/MyDrive/uic/Toxic Comments/Model/model.h5\n",
            "Epoch 5/50\n",
            "1995/1995 [==============================] - 21s 11ms/step - loss: 0.0466 - recall_4: 0.6706 - val_loss: 0.0524 - val_recall_4: 0.6139\n",
            "\n",
            "Epoch 00005: loss improved from 0.05033 to 0.04749, saving model to /content/drive/MyDrive/uic/Toxic Comments/Model/model.h5\n",
            "Epoch 6/50\n",
            "1995/1995 [==============================] - 20s 10ms/step - loss: 0.0444 - recall_4: 0.6830 - val_loss: 0.0527 - val_recall_4: 0.6368\n",
            "\n",
            "Epoch 00006: loss improved from 0.04749 to 0.04447, saving model to /content/drive/MyDrive/uic/Toxic Comments/Model/model.h5\n",
            "Epoch 7/50\n",
            "1995/1995 [==============================] - 20s 10ms/step - loss: 0.0411 - recall_4: 0.7097 - val_loss: 0.0531 - val_recall_4: 0.6677\n",
            "\n",
            "Epoch 00007: loss improved from 0.04447 to 0.04168, saving model to /content/drive/MyDrive/uic/Toxic Comments/Model/model.h5\n",
            "Epoch 8/50\n",
            "1995/1995 [==============================] - 20s 10ms/step - loss: 0.0385 - recall_4: 0.7361 - val_loss: 0.0567 - val_recall_4: 0.6531\n",
            "\n",
            "Epoch 00008: loss improved from 0.04168 to 0.03851, saving model to /content/drive/MyDrive/uic/Toxic Comments/Model/model.h5\n",
            "Epoch 9/50\n",
            "1995/1995 [==============================] - 20s 10ms/step - loss: 0.0350 - recall_4: 0.7616 - val_loss: 0.0593 - val_recall_4: 0.6449\n",
            "\n",
            "Epoch 00009: loss improved from 0.03851 to 0.03528, saving model to /content/drive/MyDrive/uic/Toxic Comments/Model/model.h5\n",
            "Epoch 10/50\n",
            "1995/1995 [==============================] - 20s 10ms/step - loss: 0.0310 - recall_4: 0.7963 - val_loss: 0.0593 - val_recall_4: 0.6983\n",
            "\n",
            "Epoch 00010: loss improved from 0.03528 to 0.03170, saving model to /content/drive/MyDrive/uic/Toxic Comments/Model/model.h5\n",
            "Epoch 11/50\n",
            "1995/1995 [==============================] - 23s 12ms/step - loss: 0.0273 - recall_4: 0.8239 - val_loss: 0.0640 - val_recall_4: 0.7048\n",
            "\n",
            "Epoch 00011: loss improved from 0.03170 to 0.02817, saving model to /content/drive/MyDrive/uic/Toxic Comments/Model/model.h5\n",
            "Epoch 12/50\n",
            "1995/1995 [==============================] - 20s 10ms/step - loss: 0.0246 - recall_4: 0.8465 - val_loss: 0.0720 - val_recall_4: 0.6565\n",
            "\n",
            "Epoch 00012: loss improved from 0.02817 to 0.02487, saving model to /content/drive/MyDrive/uic/Toxic Comments/Model/model.h5\n",
            "Epoch 13/50\n",
            "1995/1995 [==============================] - 20s 10ms/step - loss: 0.0211 - recall_4: 0.8671 - val_loss: 0.0755 - val_recall_4: 0.6805\n",
            "\n",
            "Epoch 00013: loss improved from 0.02487 to 0.02187, saving model to /content/drive/MyDrive/uic/Toxic Comments/Model/model.h5\n",
            "Epoch 14/50\n",
            "1995/1995 [==============================] - 20s 10ms/step - loss: 0.0184 - recall_4: 0.8929 - val_loss: 0.0852 - val_recall_4: 0.6870\n",
            "\n",
            "Epoch 00014: loss improved from 0.02187 to 0.01908, saving model to /content/drive/MyDrive/uic/Toxic Comments/Model/model.h5\n",
            "Epoch 15/50\n",
            "1995/1995 [==============================] - 20s 10ms/step - loss: 0.0160 - recall_4: 0.9074 - val_loss: 0.0875 - val_recall_4: 0.6617\n",
            "\n",
            "Epoch 00015: loss improved from 0.01908 to 0.01686, saving model to /content/drive/MyDrive/uic/Toxic Comments/Model/model.h5\n",
            "Epoch 16/50\n",
            "1995/1995 [==============================] - 20s 10ms/step - loss: 0.0140 - recall_4: 0.9188 - val_loss: 0.0966 - val_recall_4: 0.6342\n",
            "\n",
            "Epoch 00016: loss improved from 0.01686 to 0.01485, saving model to /content/drive/MyDrive/uic/Toxic Comments/Model/model.h5\n",
            "Epoch 17/50\n",
            "1995/1995 [==============================] - 20s 10ms/step - loss: 0.0132 - recall_4: 0.9293 - val_loss: 0.1058 - val_recall_4: 0.6688\n",
            "\n",
            "Epoch 00017: loss improved from 0.01485 to 0.01335, saving model to /content/drive/MyDrive/uic/Toxic Comments/Model/model.h5\n",
            "Epoch 18/50\n",
            "1995/1995 [==============================] - 20s 10ms/step - loss: 0.0116 - recall_4: 0.9366 - val_loss: 0.1180 - val_recall_4: 0.6534\n",
            "\n",
            "Epoch 00018: loss improved from 0.01335 to 0.01200, saving model to /content/drive/MyDrive/uic/Toxic Comments/Model/model.h5\n",
            "Epoch 19/50\n",
            "1995/1995 [==============================] - 22s 11ms/step - loss: 0.0097 - recall_4: 0.9491 - val_loss: 0.1217 - val_recall_4: 0.6588\n",
            "\n",
            "Epoch 00019: loss improved from 0.01200 to 0.01054, saving model to /content/drive/MyDrive/uic/Toxic Comments/Model/model.h5\n",
            "Epoch 20/50\n",
            "1995/1995 [==============================] - 22s 11ms/step - loss: 0.0090 - recall_4: 0.9532 - val_loss: 0.1273 - val_recall_4: 0.6479\n",
            "\n",
            "Epoch 00020: loss improved from 0.01054 to 0.00953, saving model to /content/drive/MyDrive/uic/Toxic Comments/Model/model.h5\n",
            "Epoch 21/50\n",
            "1995/1995 [==============================] - 20s 10ms/step - loss: 0.0078 - recall_4: 0.9581 - val_loss: 0.1276 - val_recall_4: 0.6462\n",
            "\n",
            "Epoch 00021: loss improved from 0.00953 to 0.00862, saving model to /content/drive/MyDrive/uic/Toxic Comments/Model/model.h5\n",
            "Epoch 22/50\n",
            "1995/1995 [==============================] - 20s 10ms/step - loss: 0.0070 - recall_4: 0.9645 - val_loss: 0.1271 - val_recall_4: 0.6747\n",
            "\n",
            "Epoch 00022: loss improved from 0.00862 to 0.00786, saving model to /content/drive/MyDrive/uic/Toxic Comments/Model/model.h5\n",
            "Epoch 23/50\n",
            "1995/1995 [==============================] - 21s 11ms/step - loss: 0.0068 - recall_4: 0.9651 - val_loss: 0.1423 - val_recall_4: 0.6571\n",
            "\n",
            "Epoch 00023: loss improved from 0.00786 to 0.00698, saving model to /content/drive/MyDrive/uic/Toxic Comments/Model/model.h5\n",
            "Epoch 24/50\n",
            "1995/1995 [==============================] - 22s 11ms/step - loss: 0.0058 - recall_4: 0.9702 - val_loss: 0.1431 - val_recall_4: 0.6534\n",
            "\n",
            "Epoch 00024: loss improved from 0.00698 to 0.00641, saving model to /content/drive/MyDrive/uic/Toxic Comments/Model/model.h5\n",
            "Epoch 25/50\n",
            "1995/1995 [==============================] - 23s 12ms/step - loss: 0.0054 - recall_4: 0.9728 - val_loss: 0.1408 - val_recall_4: 0.6569\n",
            "\n",
            "Epoch 00025: loss improved from 0.00641 to 0.00615, saving model to /content/drive/MyDrive/uic/Toxic Comments/Model/model.h5\n",
            "Epoch 26/50\n",
            "1995/1995 [==============================] - 20s 10ms/step - loss: 0.0048 - recall_4: 0.9768 - val_loss: 0.1435 - val_recall_4: 0.6585\n",
            "\n",
            "Epoch 00026: loss improved from 0.00615 to 0.00546, saving model to /content/drive/MyDrive/uic/Toxic Comments/Model/model.h5\n",
            "Epoch 27/50\n",
            "1995/1995 [==============================] - 20s 10ms/step - loss: 0.0045 - recall_4: 0.9784 - val_loss: 0.1513 - val_recall_4: 0.6626\n",
            "\n",
            "Epoch 00027: loss improved from 0.00546 to 0.00509, saving model to /content/drive/MyDrive/uic/Toxic Comments/Model/model.h5\n",
            "Epoch 28/50\n",
            "1995/1995 [==============================] - 20s 10ms/step - loss: 0.0044 - recall_4: 0.9786 - val_loss: 0.1533 - val_recall_4: 0.6689\n",
            "\n",
            "Epoch 00028: loss improved from 0.00509 to 0.00484, saving model to /content/drive/MyDrive/uic/Toxic Comments/Model/model.h5\n",
            "Epoch 29/50\n",
            "1995/1995 [==============================] - 20s 10ms/step - loss: 0.0039 - recall_4: 0.9808 - val_loss: 0.1600 - val_recall_4: 0.6623\n",
            "\n",
            "Epoch 00029: loss improved from 0.00484 to 0.00427, saving model to /content/drive/MyDrive/uic/Toxic Comments/Model/model.h5\n",
            "Epoch 30/50\n",
            "1995/1995 [==============================] - 21s 10ms/step - loss: 0.0038 - recall_4: 0.9824 - val_loss: 0.1664 - val_recall_4: 0.6155\n",
            "\n",
            "Epoch 00030: loss improved from 0.00427 to 0.00416, saving model to /content/drive/MyDrive/uic/Toxic Comments/Model/model.h5\n",
            "Epoch 31/50\n",
            "1995/1995 [==============================] - 21s 10ms/step - loss: 0.0036 - recall_4: 0.9813 - val_loss: 0.1606 - val_recall_4: 0.6658\n",
            "\n",
            "Epoch 00031: loss improved from 0.00416 to 0.00383, saving model to /content/drive/MyDrive/uic/Toxic Comments/Model/model.h5\n",
            "Epoch 32/50\n",
            "1995/1995 [==============================] - 20s 10ms/step - loss: 0.0030 - recall_4: 0.9856 - val_loss: 0.1665 - val_recall_4: 0.6436\n",
            "\n",
            "Epoch 00032: loss improved from 0.00383 to 0.00353, saving model to /content/drive/MyDrive/uic/Toxic Comments/Model/model.h5\n",
            "Epoch 33/50\n",
            "1995/1995 [==============================] - 20s 10ms/step - loss: 0.0030 - recall_4: 0.9855 - val_loss: 0.1708 - val_recall_4: 0.6555\n",
            "\n",
            "Epoch 00033: loss improved from 0.00353 to 0.00338, saving model to /content/drive/MyDrive/uic/Toxic Comments/Model/model.h5\n",
            "Epoch 34/50\n",
            "1995/1995 [==============================] - 21s 10ms/step - loss: 0.0035 - recall_4: 0.9826 - val_loss: 0.1706 - val_recall_4: 0.6532\n",
            "\n",
            "Epoch 00034: loss did not improve from 0.00338\n",
            "Epoch 35/50\n",
            "1995/1995 [==============================] - 22s 11ms/step - loss: 0.0029 - recall_4: 0.9869 - val_loss: 0.1705 - val_recall_4: 0.6654\n",
            "\n",
            "Epoch 00035: loss improved from 0.00338 to 0.00315, saving model to /content/drive/MyDrive/uic/Toxic Comments/Model/model.h5\n",
            "Epoch 36/50\n",
            "1995/1995 [==============================] - 22s 11ms/step - loss: 0.0029 - recall_4: 0.9851 - val_loss: 0.1690 - val_recall_4: 0.6590\n",
            "\n",
            "Epoch 00036: loss did not improve from 0.00315\n",
            "Epoch 37/50\n",
            "1995/1995 [==============================] - 20s 10ms/step - loss: 0.0025 - recall_4: 0.9869 - val_loss: 0.1756 - val_recall_4: 0.6621\n",
            "\n",
            "Epoch 00037: loss improved from 0.00315 to 0.00276, saving model to /content/drive/MyDrive/uic/Toxic Comments/Model/model.h5\n",
            "Epoch 38/50\n",
            "1995/1995 [==============================] - 20s 10ms/step - loss: 0.0025 - recall_4: 0.9881 - val_loss: 0.1738 - val_recall_4: 0.6563\n",
            "\n",
            "Epoch 00038: loss improved from 0.00276 to 0.00273, saving model to /content/drive/MyDrive/uic/Toxic Comments/Model/model.h5\n",
            "Epoch 39/50\n",
            "1995/1995 [==============================] - 20s 10ms/step - loss: 0.0026 - recall_4: 0.9876 - val_loss: 0.1833 - val_recall_4: 0.6425\n",
            "\n",
            "Epoch 00039: loss did not improve from 0.00273\n",
            "Epoch 40/50\n",
            "1995/1995 [==============================] - 20s 10ms/step - loss: 0.0025 - recall_4: 0.9872 - val_loss: 0.1785 - val_recall_4: 0.6477\n",
            "\n",
            "Epoch 00040: loss improved from 0.00273 to 0.00268, saving model to /content/drive/MyDrive/uic/Toxic Comments/Model/model.h5\n",
            "Epoch 41/50\n",
            "1995/1995 [==============================] - 21s 10ms/step - loss: 0.0023 - recall_4: 0.9874 - val_loss: 0.1808 - val_recall_4: 0.6539\n",
            "\n",
            "Epoch 00041: loss improved from 0.00268 to 0.00259, saving model to /content/drive/MyDrive/uic/Toxic Comments/Model/model.h5\n",
            "Epoch 42/50\n",
            "1995/1995 [==============================] - 21s 11ms/step - loss: 0.0020 - recall_4: 0.9898 - val_loss: 0.1794 - val_recall_4: 0.6507\n",
            "\n",
            "Epoch 00042: loss improved from 0.00259 to 0.00241, saving model to /content/drive/MyDrive/uic/Toxic Comments/Model/model.h5\n",
            "Epoch 43/50\n",
            "1995/1995 [==============================] - 21s 10ms/step - loss: 0.0022 - recall_4: 0.9892 - val_loss: 0.1773 - val_recall_4: 0.6641\n",
            "\n",
            "Epoch 00043: loss did not improve from 0.00241\n",
            "Epoch 44/50\n",
            "1995/1995 [==============================] - 20s 10ms/step - loss: 0.0023 - recall_4: 0.9893 - val_loss: 0.1788 - val_recall_4: 0.6787\n",
            "\n",
            "Epoch 00044: loss improved from 0.00241 to 0.00236, saving model to /content/drive/MyDrive/uic/Toxic Comments/Model/model.h5\n",
            "Epoch 45/50\n",
            "1995/1995 [==============================] - 21s 10ms/step - loss: 0.0020 - recall_4: 0.9894 - val_loss: 0.1832 - val_recall_4: 0.6473\n",
            "\n",
            "Epoch 00045: loss improved from 0.00236 to 0.00224, saving model to /content/drive/MyDrive/uic/Toxic Comments/Model/model.h5\n",
            "Epoch 46/50\n",
            "1995/1995 [==============================] - 21s 10ms/step - loss: 0.0020 - recall_4: 0.9899 - val_loss: 0.1753 - val_recall_4: 0.6548\n",
            "\n",
            "Epoch 00046: loss did not improve from 0.00224\n",
            "Epoch 47/50\n",
            "1995/1995 [==============================] - 20s 10ms/step - loss: 0.0018 - recall_4: 0.9918 - val_loss: 0.1879 - val_recall_4: 0.6580\n",
            "\n",
            "Epoch 00047: loss improved from 0.00224 to 0.00213, saving model to /content/drive/MyDrive/uic/Toxic Comments/Model/model.h5\n",
            "Epoch 48/50\n",
            "1995/1995 [==============================] - 21s 10ms/step - loss: 0.0018 - recall_4: 0.9903 - val_loss: 0.1807 - val_recall_4: 0.6364\n",
            "\n",
            "Epoch 00048: loss improved from 0.00213 to 0.00212, saving model to /content/drive/MyDrive/uic/Toxic Comments/Model/model.h5\n",
            "Epoch 49/50\n",
            "1995/1995 [==============================] - 20s 10ms/step - loss: 0.0020 - recall_4: 0.9894 - val_loss: 0.1810 - val_recall_4: 0.6630\n",
            "\n",
            "Epoch 00049: loss improved from 0.00212 to 0.00207, saving model to /content/drive/MyDrive/uic/Toxic Comments/Model/model.h5\n",
            "Epoch 50/50\n",
            "1995/1995 [==============================] - 20s 10ms/step - loss: 0.0019 - recall_4: 0.9906 - val_loss: 0.1947 - val_recall_4: 0.6548\n",
            "\n",
            "Epoch 00050: loss did not improve from 0.00207\n"
          ],
          "name": "stdout"
        }
      ]
    },
    {
      "cell_type": "markdown",
      "metadata": {
        "id": "0sMM1nPkQfKh"
      },
      "source": [
        "## Evaluation"
      ]
    },
    {
      "cell_type": "code",
      "metadata": {
        "id": "oIRVCBk7s-9q"
      },
      "source": [
        "preds = model.predict(padded_X_val)"
      ],
      "execution_count": 47,
      "outputs": []
    },
    {
      "cell_type": "code",
      "metadata": {
        "id": "qt20eiqR3EE6"
      },
      "source": [
        "preds = preds.round()"
      ],
      "execution_count": 49,
      "outputs": []
    },
    {
      "cell_type": "code",
      "metadata": {
        "colab": {
          "base_uri": "https://localhost:8080/"
        },
        "id": "v4EeTPA_3uAS",
        "outputId": "a2f129ab-643c-4f46-e4c0-0975b0b4374b"
      },
      "source": [
        "from sklearn.metrics import accuracy_score, recall_score\r\n",
        "\r\n",
        "acc = accuracy_score(y_val, preds)\r\n",
        "print(acc)\r\n",
        "\r\n",
        "rec = recall_score(y_val, preds,average=None)\r\n",
        "print(rec)"
      ],
      "execution_count": 50,
      "outputs": [
        {
          "output_type": "stream",
          "text": [
            "0.9071596428011907\n",
            "[0.69698953 0.21495327 0.70204082 0.35135135 0.67472119 0.3877551 ]\n"
          ],
          "name": "stdout"
        }
      ]
    },
    {
      "cell_type": "code",
      "metadata": {
        "colab": {
          "base_uri": "https://localhost:8080/"
        },
        "id": "3nWWCFiNmwjH",
        "outputId": "838e6a6e-ea7c-4fc9-aed2-934f15c4dfc8"
      },
      "source": [
        "preds = model.predict(padded_X_test)\r\n",
        "preds = preds.round()\r\n",
        "\r\n",
        "from sklearn.metrics import accuracy_score, recall_score\r\n",
        "\r\n",
        "acc = accuracy_score(y_test, preds)\r\n",
        "print(acc)\r\n",
        "\r\n",
        "rec = recall_score(y_test, preds,average=None)\r\n",
        "print(rec)"
      ],
      "execution_count": 110,
      "outputs": [
        {
          "output_type": "stream",
          "text": [
            "0.8638907124323987\n",
            "[0.79688013 0.30245232 0.67867787 0.45971564 0.66851474 0.4494382 ]\n"
          ],
          "name": "stdout"
        }
      ]
    }
  ]
}